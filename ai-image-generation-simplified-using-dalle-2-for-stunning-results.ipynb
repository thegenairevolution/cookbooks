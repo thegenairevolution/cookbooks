{
  "cells": [
    {
      "cell_type": "markdown",
      "metadata": {},
      "source": [
        "# 📓 The GenAI Revolution Cookbook\n\n**Title:** AI Image Generation Simplified: Using DALL·E 2 for Stunning Results\n\n**Description:** Unlock the full potential of AI image generation with DALL·E 2. Master API integration, prompt engineering, and output management for stunning results.\n\n**📖 Read the full article:** [AI Image Generation Simplified: Using DALL·E 2 for Stunning Results](https://blog.thegenairevolution.com/article/ai-image-generation-simplified-using-dalle-2-for-stunning-results)\n\n---\n\n*This jupyter notebook contains executable code examples. Run the cells below to try out the code yourself!*\n\n"
      ]
    },
    {
      "cell_type": "markdown",
      "metadata": {},
      "source": [
        "## Introduction\nWhen I first started working with DALL·E 2, I was honestly amazed at how straightforward the API was. Here's the thing - if you're building any kind of GenAI application that needs visual content, DALL·E 2 gives you a really solid foundation without the complexity you might expect from such powerful tech.\n\nThis guide walks you through everything practical: setting up the API, generating images, creating variations, and building production-ready code. No fluff, just what you need to actually build something.\n\n## Why Use DALL·E 2?\nLet me be direct here - DALL·E 2 hits the sweet spot for most applications:\n\n<ul>\n- **Quality that actually delivers**: The images are genuinely good. Not perfect every time, but consistently usable for real products\n- **Dead simple API**: RESTful, works with Python, integrates in minutes not days\n- **Flexible enough**: Text-to-image, variations, edits - covers most use cases\n- **Production-ready**: OpenAI's infrastructure means you're not babysitting servers\n</ul>\nI've found it particularly useful when you need custom visuals on demand - whether that's for user-facing features or internal tools.\n\n## Core Concepts\nBefore diving into code, here's what actually matters:\n\n**Prompts**: Your text descriptions. Be specific. \"A red car\" gives you garbage. \"A vintage red Ferrari on a mountain road at sunset, cinematic lighting\" gives you gold.\n\n**Image Generation**: You get three size options (256x256, 512x512, or 1024x1024). Bigger costs more. Start small while testing.\n\n**Variations**: Take an existing image and generate similar ones. Super useful when you're close but not quite there.\n\n**Edits (Inpainting)**: Change specific parts of an image using masks. Honestly more finicky than it sounds but powerful when you get it right.\n\n## Setup\nFirst, get the basics installed:"
      ]
    },
    {
      "cell_type": "code",
      "execution_count": null,
      "metadata": {},
      "outputs": [],
      "source": [
        "!pip install openai pillow requests"
      ]
    },
    {
      "cell_type": "markdown",
      "metadata": {},
      "source": [
        "Then set up your imports and API key:"
      ]
    },
    {
      "cell_type": "code",
      "execution_count": null,
      "metadata": {},
      "outputs": [],
      "source": [
        "import openai\nimport os\nfrom PIL import Image\nimport requests\nfrom io import BytesIO\n\n# Set your OpenAI API key\nopenai.api_key = os.getenv(\"OPENAI_API_KEY\")  # or set directly: \"your-api-key-here\""
      ]
    },
    {
      "cell_type": "markdown",
      "metadata": {},
      "source": [
        "Get your API key from <a href=\"https://platform.openai.com/api-keys\">OpenAI's platform</a>. And please, use environment variables - don't hardcode it.\n\n## Generating Images from Text\nHere's the core functionality - turning text into images:"
      ]
    },
    {
      "cell_type": "code",
      "execution_count": null,
      "metadata": {},
      "outputs": [],
      "source": [
        "def generate_image(prompt, size=\"1024x1024\", n=1):\n    \"\"\"\n    Generate images using DALL·E 2\n    \n    Args:\n        prompt: Text description of the desired image\n        size: Image dimensions (256x256, 512x512, or 1024x1024)\n        n: Number of images to generate (1-10)\n    \"\"\"\n    response = openai.Image.create(\n        prompt=prompt,\n        n=n,\n        size=size\n    )\n    return response['data']\n\n# Generate a single image\nprompt = \"A futuristic city skyline at sunset with flying cars, digital art style\"\nimages = generate_image(prompt, size=\"1024x1024\", n=1)\n\n# The response contains URLs to the generated images\nimage_url = images[0]['url']\nprint(f\"Generated image URL: {image_url}\")"
      ]
    },
    {
      "cell_type": "markdown",
      "metadata": {},
      "source": [
        "Now download and save it:"
      ]
    },
    {
      "cell_type": "code",
      "execution_count": null,
      "metadata": {},
      "outputs": [],
      "source": [
        "def download_image(url):\n    \"\"\"Download image from URL and return PIL Image object\"\"\"\n    response = requests.get(url)\n    return Image.open(BytesIO(response.content))\n\n# Download and save the image\nimg = download_image(image_url)\nimg.save(\"generated_image.png\")\nprint(\"Image saved as generated_image.png\")"
      ]
    },
    {
      "cell_type": "markdown",
      "metadata": {},
      "source": [
        "Quick prompt tips that actually work:\n\n<ul>\n- Add style descriptors (\"oil painting\", \"3D render\", \"photograph\")\n- Specify lighting and mood\n- Include composition details\n- The more specific, the better\n</ul>\n## Creating Image Variations\nSometimes you're close but need alternatives. That's where variations come in:"
      ]
    },
    {
      "cell_type": "code",
      "execution_count": null,
      "metadata": {},
      "outputs": [],
      "source": [
        "def create_variation(image_path, n=1, size=\"1024x1024\"):\n    \"\"\"\n    Create variations of an existing image\n    \n    Args:\n        image_path: Path to the source image (must be PNG, < 4MB, square)\n        n: Number of variations to generate\n        size: Output image size\n    \"\"\"\n    with open(image_path, \"rb\") as image_file:\n        response = openai.Image.create_variation(\n            image=image_file,\n            n=n,\n            size=size\n        )\n    return response['data']\n\n# Create variations of the generated image\nvariations = create_variation(\"generated_image.png\", n=2)\n\n# Download variations\nfor i, var in enumerate(variations):\n    img = download_image(var['url'])\n    img.save(f\"variation_{i}.png\")\n    print(f\"Saved variation_{i}.png\")"
      ]
    },
    {
      "cell_type": "markdown",
      "metadata": {},
      "source": [
        "Heads up: Your source image must be square, PNG, and under 4MB. I learned this the hard way.\n\n## Editing Images with Inpainting\nWant to change just part of an image? Here's how:"
      ]
    },
    {
      "cell_type": "code",
      "execution_count": null,
      "metadata": {},
      "outputs": [],
      "source": [
        "def edit_image(image_path, mask_path, prompt, n=1, size=\"1024x1024\"):\n    \"\"\"\n    Edit an image using a mask and text prompt\n    \n    Args:\n        image_path: Path to the original image (PNG, < 4MB, square)\n        mask_path: Path to the mask image (PNG, transparent areas indicate edit regions)\n        prompt: Description of the desired edit\n        n: Number of edited versions to generate\n        size: Output image size\n    \"\"\"\n    with open(image_path, \"rb\") as image_file, open(mask_path, \"rb\") as mask_file:\n        response = openai.Image.create_edit(\n            image=image_file,\n            mask=mask_file,\n            prompt=prompt,\n            n=n,\n            size=size\n        )\n    return response['data']\n\n# Example: Edit a specific region\n# You need to create a mask image where transparent areas indicate what to edit\nedited = edit_image(\n    \"generated_image.png\",\n    \"mask.png\",\n    \"Add a bright full moon in the sky\",\n    n=1\n)\n\nimg = download_image(edited[0]['url'])\nimg.save(\"edited_image.png\")"
      ]
    },
    {
      "cell_type": "markdown",
      "metadata": {},
      "source": [
        "Actually, let me show you how to create masks programmatically - way easier than using Photoshop:"
      ]
    },
    {
      "cell_type": "code",
      "execution_count": null,
      "metadata": {},
      "outputs": [],
      "source": [
        "from PIL import Image, ImageDraw\n\ndef create_circular_mask(image_path, center, radius, output_path):\n    \"\"\"Create a circular mask for inpainting\"\"\"\n    img = Image.open(image_path).convert(\"RGBA\")\n    mask = Image.new(\"RGBA\", img.size, (0, 0, 0, 255))  # Opaque black\n    draw = ImageDraw.Draw(mask)\n    \n    # Draw transparent circle (area to edit)\n    left = center[0] - radius\n    top = center[1] - radius\n    right = center[0] + radius\n    bottom = center[1] + radius\n    draw.ellipse([left, top, right, bottom], fill=(0, 0, 0, 0))\n    \n    mask.save(output_path)\n    return output_path\n\n# Create a mask for the top-right region\ncreate_circular_mask(\"generated_image.png\", center=(768, 256), radius=200, output_path=\"mask.png\")"
      ]
    },
    {
      "cell_type": "markdown",
      "metadata": {},
      "source": [
        "## Building a Production-Ready Generator\nHere's where things get real. You need error handling, retries, all that good stuff:"
      ]
    },
    {
      "cell_type": "code",
      "execution_count": null,
      "metadata": {},
      "outputs": [],
      "source": [
        "import time\nfrom typing import List, Optional\n\nclass DALLEGenerator:\n    \"\"\"Production-ready DALL·E 2 image generator with error handling\"\"\"\n    \n    def __init__(self, api_key: str, max_retries: int = 3):\n        openai.api_key = api_key\n        self.max_retries = max_retries\n    \n    def generate(self, prompt: str, size: str = \"1024x1024\", n: int = 1) -> List[str]:\n        \"\"\"Generate images with retry logic\"\"\"\n        for attempt in range(self.max_retries):\n            try:\n                response = openai.Image.create(\n                    prompt=prompt,\n                    n=n,\n                    size=size\n                )\n                return [img['url'] for img in response['data']]\n            \n            except openai.error.RateLimitError:\n                if attempt < self.max_retries - 1:\n                    wait_time = 2 ** attempt  # Exponential backoff\n                    print(f\"Rate limit hit. Waiting {wait_time}s...\")\n                    time.sleep(wait_time)\n                else:\n                    raise\n            \n            except openai.error.InvalidRequestError as e:\n                print(f\"Invalid request: {e}\")\n                raise\n            \n            except Exception as e:\n                print(f\"Unexpected error: {e}\")\n                if attempt < self.max_retries - 1:\n                    time.sleep(1)\n                else:\n                    raise\n    \n    def download_and_save(self, url: str, filepath: str) -> None:\n        \"\"\"Download image from URL and save to disk\"\"\"\n        try:\n            response = requests.get(url, timeout=30)\n            response.raise_for_status()\n            \n            img = Image.open(BytesIO(response.content))\n            img.save(filepath)\n            print(f\"Saved image to {filepath}\")\n        \n        except Exception as e:\n            print(f\"Failed to download image: {e}\")\n            raise\n\n# Usage example\ngenerator = DALLEGenerator(api_key=os.getenv(\"OPENAI_API_KEY\"))\n\nprompts = [\n    \"A serene mountain landscape with a lake reflection, photorealistic\",\n    \"Abstract geometric patterns in vibrant colors, modern art style\",\n    \"A cozy coffee shop interior with warm lighting, architectural photography\"\n]\n\nfor i, prompt in enumerate(prompts):\n    print(f\"\\nGenerating image {i+1}: {prompt}\")\n    urls = generator.generate(prompt, size=\"1024x1024\", n=1)\n    generator.download_and_save(urls[0], f\"output_{i}.png\")"
      ]
    },
    {
      "cell_type": "markdown",
      "metadata": {},
      "source": [
        "## Run and Evaluate\nLet's test everything together:"
      ]
    },
    {
      "cell_type": "code",
      "execution_count": null,
      "metadata": {},
      "outputs": [],
      "source": [
        "# Initialize generator\ngenerator = DALLEGenerator(api_key=os.getenv(\"OPENAI_API_KEY\"))\n\n# Test prompt\ntest_prompt = \"A robot reading a book in a library, warm lighting, digital illustration\"\n\n# Generate image\nprint(\"Generating image...\")\nimage_urls = generator.generate(test_prompt, size=\"512x512\", n=1)\n\n# Download and save\ngenerator.download_and_save(image_urls[0], \"test_output.png\")\n\n# Create variations\nprint(\"\\nCreating variations...\")\nvariations = create_variation(\"test_output.png\", n=2, size=\"512x512\")\n\nfor i, var in enumerate(variations):\n    generator.download_and_save(var['url'], f\"test_variation_{i}.png\")\n\nprint(\"\\nGeneration complete. Check the output files.\")"
      ]
    },
    {
      "cell_type": "markdown",
      "metadata": {},
      "source": [
        "And here's something practical - track your costs:"
      ]
    },
    {
      "cell_type": "code",
      "execution_count": null,
      "metadata": {},
      "outputs": [],
      "source": [
        "# Track generation costs (approximate)\ndef estimate_cost(size: str, n: int) -> float:\n    \"\"\"Estimate cost for DALL·E 2 generation (as of 2024)\"\"\"\n    costs = {\n        \"1024x1024\": 0.020,  # $0.020 per image\n        \"512x512\": 0.018,    # $0.018 per image\n        \"256x256\": 0.016     # $0.016 per image\n    }\n    return costs.get(size, 0.020) * n\n\n# Calculate cost for batch generation\ntotal_cost = sum(estimate_cost(\"1024x1024\", 1) for _ in prompts)\nprint(f\"Estimated cost for batch: ${total_cost:.3f}\")"
      ]
    },
    {
      "cell_type": "markdown",
      "metadata": {},
      "source": [
        "## Conclusion\nThat's it - you've got everything you need to integrate DALL·E 2 into your applications. The key things to remember:\n\n<ul>\n- Prompts make or break your results. Be specific.\n- Always add retry logic - the API will occasionally hiccup\n- Start with smaller images while testing to save money\n- Variations are your friend when you're almost there\n</ul>\nWhat's next? Honestly, just start building. Hook it up to a web app, combine it with GPT for automated prompts, whatever your use case needs. The API is stable enough that you can ship to production without losing sleep.\n\nFor the latest updates and detailed docs, check the <a href=\"https://platform.openai.com/docs/guides/images\">OpenAI DALL·E API reference</a>."
      ]
    }
  ],
  "metadata": {
    "title": "AI Image Generation Simplified: Using DALL·E 2 for Stunning Results",
    "description": "Unlock the full potential of AI image generation with DALL·E 2. Master API integration, prompt engineering, and output management for stunning results.",
    "kernelspec": {
      "display_name": "Python 3",
      "language": "python",
      "name": "python3"
    },
    "language_info": {
      "name": "python",
      "version": "3.8.0"
    }
  },
  "nbformat": 4,
  "nbformat_minor": 4
}