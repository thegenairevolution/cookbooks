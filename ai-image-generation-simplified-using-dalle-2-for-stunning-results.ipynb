{
  "cells": [
    {
      "cell_type": "markdown",
      "metadata": {},
      "source": [
        "# 📓 The GenAI Revolution Cookbook\n\n**Title:** AI Image Generation Simplified: Using DALL·E 2 for Stunning Results\n\n**Description:** Unlock the full potential of AI image generation with DALL·E 2. Master API integration, prompt engineering, and output management for stunning results.\n\n**📖 Read the full article:** [AI Image Generation Simplified: Using DALL·E 2 for Stunning Results](https://blog.thegenairevolution.com/article/ai-image-generation-simplified-using-dalle-2-for-stunning-results-2)\n\n---\n\n*This jupyter notebook contains executable code examples. Run the cells below to try out the code yourself!*\n\n"
      ]
    },
    {
      "cell_type": "markdown",
      "metadata": {},
      "source": [
        "## Introduction\nSo I was messing around with DALL·E 2 the other day, and honestly? I was kind of blown away by how simple the whole thing was to get running. I mean, here's this incredibly powerful AI that can create images from text, and the API is just... straightforward. No weird hoops to jump through, no cryptic documentation that makes you want to pull your hair out.\n\nLook, I'm going to walk you through the actual nuts and bolts here - how to set it up, generate images, create variations, all that good stuff. And I'll try to keep it practical because, let's face it, we're all just trying to build something that works.\n\n## Why Use DALL·E 2?\nOkay, real talk - DALL·E 2 isn't the newest kid on the block anymore, but it's still really solid for most things you'd want to build:\n\n<ul>\n- **The quality is genuinely good**: Not every image is a masterpiece (sometimes you get weird hands or whatever), but most of the time? Totally usable.\n- **The API is dead simple**: RESTful, works with Python, you can literally get it running in like 5 minutes\n- **It does what you need**: Text-to-image, variations, edits - that covers basically everything\n- **OpenAI's infrastructure**: You're not dealing with random server crashes at 3 AM\n</ul>\nI've been using it mostly for generating custom visuals on the fly. Actually, wait - let me be more specific. Last week I built this little tool for our marketing team where they could generate social media graphics just by describing what they wanted. Saved them hours of stock photo hunting.\n\n## Core Concepts\nBefore we dive into the code, here's what you actually need to know:\n\n**Prompts**: This is where most people mess up. \"A red car\" will give you... well, a red car. But probably not what you actually wanted. Try something like \"A vintage red Ferrari on a mountain road at sunset, cinematic lighting, shot on film\" - now we're talking.\n\n**Image Generation**: You get three sizes - 256x256, 512x512, or 1024x1024. Bigger = more expensive. I usually test with 512x512 because I'm cheap like that.\n\n**Variations**: This is super handy. Got an image that's almost perfect but not quite? Generate variations. Sometimes the third or fourth one is exactly what you needed.\n\n**Edits (Inpainting)**: You can change specific parts of an image using masks. To be honest, this one's a bit finicky. Sometimes it works beautifully, sometimes it completely ignores what you asked for. But when it works? Chef's kiss.\n\n## Setup\nAlright, let's get our hands dirty. First, install what you need:"
      ]
    },
    {
      "cell_type": "code",
      "execution_count": null,
      "metadata": {},
      "outputs": [],
      "source": [
        "!pip install openai pillow requests"
      ]
    },
    {
      "cell_type": "markdown",
      "metadata": {},
      "source": [
        "Then set up your imports and API key:"
      ]
    },
    {
      "cell_type": "code",
      "execution_count": null,
      "metadata": {},
      "outputs": [],
      "source": [
        "import openai\nimport os\nfrom PIL import Image\nimport requests\nfrom io import BytesIO\n\n# Set your OpenAI API key\nopenai.api_key = os.getenv(\"OPENAI_API_KEY\")  # or set directly: \"your-api-key-here\""
      ]
    },
    {
      "cell_type": "markdown",
      "metadata": {},
      "source": [
        "Get your API key from <a href=\"https://platform.openai.com/api-keys\">OpenAI's platform</a>. And seriously, use environment variables. I once accidentally pushed my API key to GitHub and... yeah, that was a fun conversation with accounting.\n\n## Generating Images from Text\nThis is the bread and butter - turning your words into pictures:"
      ]
    },
    {
      "cell_type": "code",
      "execution_count": null,
      "metadata": {},
      "outputs": [],
      "source": [
        "def generate_image(prompt, size=\"1024x1024\", n=1):\n    \"\"\"\n    Generate images using DALL·E 2\n    \n    Args:\n        prompt: Text description of the desired image\n        size: Image dimensions (256x256, 512x512, or 1024x1024)\n        n: Number of images to generate (1-10)\n    \"\"\"\n    response = openai.Image.create(\n        prompt=prompt,\n        n=n,\n        size=size\n    )\n    return response['data']\n\n# Generate a single image\nprompt = \"A futuristic city skyline at sunset with flying cars, digital art style\"\nimages = generate_image(prompt, size=\"1024x1024\", n=1)\n\n# The response contains URLs to the generated images\nimage_url = images[0]['url']\nprint(f\"Generated image URL: {image_url}\")"
      ]
    },
    {
      "cell_type": "markdown",
      "metadata": {},
      "source": [
        "And here's how you actually save the thing:"
      ]
    },
    {
      "cell_type": "code",
      "execution_count": null,
      "metadata": {},
      "outputs": [],
      "source": [
        "def download_image(url):\n    \"\"\"Download image from URL and return PIL Image object\"\"\"\n    response = requests.get(url)\n    return Image.open(BytesIO(response.content))\n\n# Download and save the image\nimg = download_image(image_url)\nimg.save(\"generated_image.png\")\nprint(\"Image saved as generated_image.png\")"
      ]
    },
    {
      "cell_type": "markdown",
      "metadata": {},
      "source": [
        "Some prompt tips I've picked up (mostly through trial and error):\n\n<ul>\n- Style descriptors are your friend - \"oil painting\", \"3D render\", \"photograph\", whatever\n- Lighting matters way more than you'd think\n- Be weirdly specific about composition\n- Actually, the more specific you are about everything, the better. It's like the AI needs you to paint a picture with words before it can... paint a picture\n</ul>\n## Creating Image Variations\nThis feature has saved my bacon more times than I can count. You know when you generate something that's like 90% perfect? That's when variations come in:"
      ]
    },
    {
      "cell_type": "code",
      "execution_count": null,
      "metadata": {},
      "outputs": [],
      "source": [
        "def create_variation(image_path, n=1, size=\"1024x1024\"):\n    \"\"\"\n    Create variations of an existing image\n    \n    Args:\n        image_path: Path to the source image (must be PNG, < 4MB, square)\n        n: Number of variations to generate\n        size: Output image size\n    \"\"\"\n    with open(image_path, \"rb\") as image_file:\n        response = openai.Image.create_variation(\n            image=image_file,\n            n=n,\n            size=size\n        )\n    return response['data']\n\n# Create variations of the generated image\nvariations = create_variation(\"generated_image.png\", n=2)\n\n# Download variations\nfor i, var in enumerate(variations):\n    img = download_image(var['url'])\n    img.save(f\"variation_{i}.png\")\n    print(f\"Saved variation_{i}.png\")"
      ]
    },
    {
      "cell_type": "markdown",
      "metadata": {},
      "source": [
        "Quick heads up - your source image needs to be square, PNG format, and under 4MB. Found this out after spending 20 minutes wondering why my rectangular JPEGs weren't working. The error messages aren't always super helpful.\n\n## Editing Images with Inpainting\nOkay, this is where things get interesting. Want to change just one part of an image? Here's how:"
      ]
    },
    {
      "cell_type": "code",
      "execution_count": null,
      "metadata": {},
      "outputs": [],
      "source": [
        "def edit_image(image_path, mask_path, prompt, n=1, size=\"1024x1024\"):\n    \"\"\"\n    Edit an image using a mask and text prompt\n    \n    Args:\n        image_path: Path to the original image (PNG, < 4MB, square)\n        mask_path: Path to the mask image (PNG, transparent areas indicate edit regions)\n        prompt: Description of the desired edit\n        n: Number of edited versions to generate\n        size: Output image size\n    \"\"\"\n    with open(image_path, \"rb\") as image_file, open(mask_path, \"rb\") as mask_file:\n        response = openai.Image.create_edit(\n            image=image_file,\n            mask=mask_file,\n            prompt=prompt,\n            n=n,\n            size=size\n        )\n    return response['data']\n\n# Example: Edit a specific region\n# You need to create a mask image where transparent areas indicate what to edit\nedited = edit_image(\n    \"generated_image.png\",\n    \"mask.png\",\n    \"Add a bright full moon in the sky\",\n    n=1\n)\n\nimg = download_image(edited[0]['url'])\nimg.save(\"edited_image.png\")"
      ]
    },
    {
      "cell_type": "markdown",
      "metadata": {},
      "source": [
        "But wait - creating masks in Photoshop is annoying. Let me show you a programmatic way that's saved me tons of time:"
      ]
    },
    {
      "cell_type": "code",
      "execution_count": null,
      "metadata": {},
      "outputs": [],
      "source": [
        "from PIL import Image, ImageDraw\n\ndef create_circular_mask(image_path, center, radius, output_path):\n    \"\"\"Create a circular mask for inpainting\"\"\"\n    img = Image.open(image_path).convert(\"RGBA\")\n    mask = Image.new(\"RGBA\", img.size, (0, 0, 0, 255))  # Opaque black\n    draw = ImageDraw.Draw(mask)\n    \n    # Draw transparent circle (area to edit)\n    left = center[0] - radius\n    top = center[1] - radius\n    right = center[0] + radius\n    bottom = center[1] + radius\n    draw.ellipse([left, top, right, bottom], fill=(0, 0, 0, 0))\n    \n    mask.save(output_path)\n    return output_path\n\n# Create a mask for the top-right region\ncreate_circular_mask(\"generated_image.png\", center=(768, 256), radius=200, output_path=\"mask.png\")"
      ]
    },
    {
      "cell_type": "markdown",
      "metadata": {},
      "source": [
        "## Building a Production-Ready Generator\nAlright, so everything above works great when you're just playing around. But if you're actually shipping something? You need error handling, retries, the whole nine yards. Here's what I use in production:"
      ]
    },
    {
      "cell_type": "code",
      "execution_count": null,
      "metadata": {},
      "outputs": [],
      "source": [
        "import time\nfrom typing import List, Optional\n\nclass DALLEGenerator:\n    \"\"\"Production-ready DALL·E 2 image generator with error handling\"\"\"\n    \n    def __init__(self, api_key: str, max_retries: int = 3):\n        openai.api_key = api_key\n        self.max_retries = max_retries\n    \n    def generate(self, prompt: str, size: str = \"1024x1024\", n: int = 1) -> List[str]:\n        \"\"\"Generate images with retry logic\"\"\"\n        for attempt in range(self.max_retries):\n            try:\n                response = openai.Image.create(\n                    prompt=prompt,\n                    n=n,\n                    size=size\n                )\n                return [img['url'] for img in response['data']]\n            \n            except openai.error.RateLimitError:\n                if attempt < self.max_retries - 1:\n                    wait_time = 2 ** attempt  # Exponential backoff\n                    print(f\"Rate limit hit. Waiting {wait_time}s...\")\n                    time.sleep(wait_time)\n                else:\n                    raise\n            \n            except openai.error.InvalidRequestError as e:\n                print(f\"Invalid request: {e}\")\n                raise\n            \n            except Exception as e:\n                print(f\"Unexpected error: {e}\")\n                if attempt < self.max_retries - 1:\n                    time.sleep(1)\n                else:\n                    raise\n    \n    def download_and_save(self, url: str, filepath: str) -> None:\n        \"\"\"Download image from URL and save to disk\"\"\"\n        try:\n            response = requests.get(url, timeout=30)\n            response.raise_for_status()\n            \n            img = Image.open(BytesIO(response.content))\n            img.save(filepath)\n            print(f\"Saved image to {filepath}\")\n        \n        except Exception as e:\n            print(f\"Failed to download image: {e}\")\n            raise\n\n# Usage example\ngenerator = DALLEGenerator(api_key=os.getenv(\"OPENAI_API_KEY\"))\n\nprompts = [\n    \"A serene mountain landscape with a lake reflection, photorealistic\",\n    \"Abstract geometric patterns in vibrant colors, modern art style\",\n    \"A cozy coffee shop interior with warm lighting, architectural photography\"\n]\n\nfor i, prompt in enumerate(prompts):\n    print(f\"\\nGenerating image {i+1}: {prompt}\")\n    urls = generator.generate(prompt, size=\"1024x1024\", n=1)\n    generator.download_and_save(urls[0], f\"output_{i}.png\")"
      ]
    },
    {
      "cell_type": "markdown",
      "metadata": {},
      "source": [
        "## Run and Evaluate\nLet's put it all together and see if this thing actually works:"
      ]
    },
    {
      "cell_type": "code",
      "execution_count": null,
      "metadata": {},
      "outputs": [],
      "source": [
        "# Initialize generator\ngenerator = DALLEGenerator(api_key=os.getenv(\"OPENAI_API_KEY\"))\n\n# Test prompt\ntest_prompt = \"A robot reading a book in a library, warm lighting, digital illustration\"\n\n# Generate image\nprint(\"Generating image...\")\nimage_urls = generator.generate(test_prompt, size=\"512x512\", n=1)\n\n# Download and save\ngenerator.download_and_save(image_urls[0], \"test_output.png\")\n\n# Create variations\nprint(\"\\nCreating variations...\")\nvariations = create_variation(\"test_output.png\", n=2, size=\"512x512\")\n\nfor i, var in enumerate(variations):\n    generator.download_and_save(var['url'], f\"test_variation_{i}.png\")\n\nprint(\"\\nGeneration complete. Check the output files.\")"
      ]
    },
    {
      "cell_type": "markdown",
      "metadata": {},
      "source": [
        "Oh, and here's something I wish someone had told me earlier - keep track of your costs:"
      ]
    },
    {
      "cell_type": "code",
      "execution_count": null,
      "metadata": {},
      "outputs": [],
      "source": [
        "# Track generation costs (approximate)\ndef estimate_cost(size: str, n: int) -> float:\n    \"\"\"Estimate cost for DALL·E 2 generation (as of 2024)\"\"\"\n    costs = {\n        \"1024x1024\": 0.020,  # $0.020 per image\n        \"512x512\": 0.018,    # $0.018 per image\n        \"256x256\": 0.016     # $0.016 per image\n    }\n    return costs.get(size, 0.020) * n\n\n# Calculate cost for batch generation\ntotal_cost = sum(estimate_cost(\"1024x1024\", 1) for _ in prompts)\nprint(f\"Estimated cost for batch: ${total_cost:.3f}\")"
      ]
    },
    {
      "cell_type": "markdown",
      "metadata": {},
      "source": [
        "I learned this one the hard way when I accidentally left a loop running overnight. That was a fun expense report.\n\n## Conclusion\nSo there you have it - everything you need to get DALL·E 2 up and running in your projects. The big takeaways?\n\n<ul>\n- Your prompts are everything. Seriously, spend time on them\n- Always, always add retry logic. The API will hiccup, usually at the worst possible moment\n- Test with smaller images first. Your wallet will thank you\n- When you get something close, use variations instead of regenerating from scratch\n</ul>\nWhat's next? Just start building something. Hook it up to a web interface, combine it with GPT for automated prompt generation, build that weird idea you've been thinking about. The API is stable enough now that you can actually ship stuff without constantly worrying about it breaking.\n\nActually, let me put it this way - I've been running this in production for months now, and the only issues I've had were my own stupid mistakes (like that overnight loop thing). The technology itself? Rock solid.\n\nFor the latest updates and all the nitty-gritty details, check the <a href=\"https://platform.openai.com/docs/guides/images\">OpenAI DALL·E API reference</a>."
      ]
    }
  ],
  "metadata": {
    "title": "AI Image Generation Simplified: Using DALL·E 2 for Stunning Results",
    "description": "Unlock the full potential of AI image generation with DALL·E 2. Master API integration, prompt engineering, and output management for stunning results.",
    "kernelspec": {
      "display_name": "Python 3",
      "language": "python",
      "name": "python3"
    },
    "language_info": {
      "name": "python",
      "version": "3.8.0"
    }
  },
  "nbformat": 4,
  "nbformat_minor": 4
}