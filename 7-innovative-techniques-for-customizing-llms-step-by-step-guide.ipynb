{
  "cells": [
    {
      "cell_type": "markdown",
      "metadata": {},
      "source": [
        "# 📓 The GenAI Revolution Cookbook\n\n**Title:** 7 Innovative Techniques for Customizing LLMs [Step-by-Step Guide]\n\n**Description:** Transform your AI projects by mastering 7 cutting-edge techniques to tailor LLMs for domain-specific tasks, enhancing accuracy and performance.\n\n---\n\n*This jupyter notebook contains executable code examples. Run the cells below to try out the code yourself!*\n\n"
      ]
    },
    {
      "cell_type": "markdown",
      "metadata": {},
      "source": [
        "So here's the thing about large language models - they've completely changed how we work with natural language processing, but honestly? Their general-purpose nature can be a real problem when you're trying to build something specific. I learned this the hard way working on a financial compliance system last year. You need precision in specialized fields like legal, medical, or financial applications, and generic models just don't cut it.\n<img src=\"/public-objects/user_insert_44830763_1759713081824.png\" alt=\"Uploaded image\" title=\"Uploaded image\" style=\"max-width: 100%; height: auto;\">What I've discovered is that customizing LLMs for domain-specific tasks is what actually makes them useful in production. By the end of this tutorial, you'll know how to implement parameter-efficient fine-tuning, build RAG systems that actually work, design prompts that don't make you want to pull your hair out, and deploy models without breaking the bank. And yes, everything runs in a Colab notebook - no fancy hardware required.\nFor additional techniques on tailoring LLMs to specific use cases, explore our <a target=\"_blank\" rel=\"noopener noreferrer nofollow\" href=\"/blog/44830763/mastering-domain-specific-llm-customization-techniques-and-tools-unveiled\">guide on domain-specific LLM customization</a>.\n## Setup & InstallationLet's get the boring stuff out of the way first. We need to install a bunch of libraries. Nothing too crazy, but these will handle everything from model management to deployment."
      ]
    },
    {
      "cell_type": "code",
      "execution_count": null,
      "metadata": {},
      "outputs": [],
      "source": [
        "# Install necessary libraries for the customization pipeline\n!pip install transformers datasets peft langchain chromadb sentence-transformers accelerate bitsandbytes fastapi uvicorn"
      ]
    },
    {
      "cell_type": "code",
      "execution_count": null,
      "metadata": {},
      "outputs": [],
      "source": [
        "# Import essential modules\nimport transformers  # For loading and managing pre-trained models\nimport datasets  # For dataset loading and preprocessing\nfrom peft import LoraConfig, get_peft_model, TaskType  # For parameter-efficient fine-tuning\nimport chromadb  # For vector database management\nfrom langchain.vectorstores import Chroma  # For RAG orchestration\nfrom langchain.embeddings import HuggingFaceEmbeddings  # For generating embeddings\nfrom langchain.chains import RetrievalQA  # For building RAG pipelines\nfrom langchain.llms import HuggingFacePipeline  # For integrating HF models with LangChain\nimport torch  # For tensor operations and model inference\nimport logging  # For monitoring and logging"
      ]
    },
    {
      "cell_type": "markdown",
      "metadata": {},
      "source": [
        "## Step 1: Load and Preprocess Domain-Specific DatasetOkay, this is where most people mess up. They grab any dataset and hope for the best. But domain-specific datasets? They're absolutely critical. I mean it - the difference between a model that sort of works and one that actually delivers is usually the data.\nActually, let me tell you what happened when I first tried this. I was working with medical data and thought I could just lowercase everything and call it a day. Turns out, \"mg\" and \"MG\" mean very different things in medical contexts. Lesson learned."
      ]
    },
    {
      "cell_type": "code",
      "execution_count": null,
      "metadata": {},
      "outputs": [],
      "source": [
        "from datasets import load_dataset\n\n# Load a domain-specific dataset (replace 'your_domain_dataset' with an actual dataset)\n# Example: 'medical_questions_pairs' for medical domain\ndataset = load_dataset('squad')  # Using SQuAD as a placeholder; replace with your dataset\n\n# Preprocess the dataset: normalize text to lowercase for consistency\ndef preprocess_function(examples):\n    return {'text': examples['context'].lower()}\n\n# Apply preprocessing to the dataset\ndataset = dataset.map(preprocess_function)\n\n# Display a sample to verify preprocessing\nprint(dataset['train'][0])"
      ]
    },
    {
      "cell_type": "markdown",
      "metadata": {},
      "source": [
        "**Key Considerations:**\n<ul><li>Your dataset needs to match your target domain. Seriously, using general text to train a legal model is like teaching someone French when they need to speak Spanish\n</li><li>Preprocessing can make or break your training. But be careful - sometimes those \"messy\" bits of data are actually important\n</li></ul>## Step 2: Implement LoRA Fine-Tuning Using PEFTLoRA changed everything for me. Before I discovered it, I was burning through cloud credits trying to fine-tune entire models. Now? I can fine-tune on my laptop (well, almost).\nThe beauty of LoRA is that it's stupidly efficient. Instead of updating millions of parameters, you're updating a tiny fraction. And the results? Nearly identical to full fine-tuning. It still feels like cheating sometimes.\nFor best practices on fine-tuning language models, refer to our <a target=\"_blank\" rel=\"noopener noreferrer nofollow\" href=\"/blog/44830763/mastering-fine-tuning-of-large-language-models-with-hugging-face\">in-depth walkthrough on fine-tuning with Hugging Face Transformers</a>."
      ]
    },
    {
      "cell_type": "code",
      "execution_count": null,
      "metadata": {},
      "outputs": [],
      "source": [
        "from transformers import AutoModelForCausalLM, AutoTokenizer, TrainingArguments, Trainer\nfrom peft import LoraConfig, get_peft_model, TaskType\n\n# Load a pre-trained model and tokenizer\nmodel_name = \"gpt2\"  # Replace with your preferred base model\ntokenizer = AutoTokenizer.from_pretrained(model_name)\nmodel = AutoModelForCausalLM.from_pretrained(model_name)\n\n# Configure LoRA for parameter-efficient fine-tuning\nlora_config = LoraConfig(\n    task_type=TaskType.CAUSAL_LM,  # Task type for causal language modeling\n    r=8,  # Rank of the low-rank matrices\n    lora_alpha=32,  # Scaling factor for LoRA\n    lora_dropout=0.1,  # Dropout rate to prevent overfitting\n    target_modules=[\"c_attn\"]  # Target attention layers for adaptation\n)\n\n# Apply LoRA to the model\nmodel = get_peft_model(model, lora_config)\n\n# Display trainable parameters to verify LoRA application\nmodel.print_trainable_parameters()"
      ]
    },
    {
      "cell_type": "code",
      "execution_count": null,
      "metadata": {},
      "outputs": [],
      "source": [
        "# Tokenize the dataset for training\ndef tokenize_function(examples):\n    return tokenizer(examples['text'], padding=\"max_length\", truncation=True, max_length=512)\n\ntokenized_dataset = dataset.map(tokenize_function, batched=True)\n\n# Define training arguments\ntraining_args = TrainingArguments(\n    output_dir=\"./lora_finetuned_model\",\n    evaluation_strategy=\"epoch\",\n    learning_rate=2e-5,\n    per_device_train_batch_size=4,\n    per_device_eval_batch_size=4,\n    num_train_epochs=3,\n    weight_decay=0.01,\n    save_strategy=\"epoch\",\n    logging_dir=\"./logs\",\n)\n\n# Initialize Trainer\ntrainer = Trainer(\n    model=model,\n    args=training_args,\n    train_dataset=tokenized_dataset['train'],\n    eval_dataset=tokenized_dataset['validation'],\n)\n\n# Fine-tune the model\ntrainer.train()"
      ]
    },
    {
      "cell_type": "markdown",
      "metadata": {},
      "source": [
        "**Key Considerations:**\n<ul><li>I've seen LoRA reduce memory usage by 90%. Not 10%, not 50% - ninety percent. That's not a typo\n</li><li>The `r` parameter is tricky. Too low and your model won't learn enough. Too high and you're basically doing full fine-tuning. I usually start at 8 and adjust from there\n</li><li>Watch that training loss like a hawk. If it's not dropping, something's wrong\n</li><li>Actually, here's a tip: save checkpoints frequently. Nothing worse than losing 3 hours of training to a random crash\n</li></ul>## Step 3: Build a RAG Pipeline Using ChromaDB and LangChainRAG is where things get fun. Really fun. It's like giving your model access to Google, but for your specific domain. The first time I implemented RAG for a customer service bot, the accuracy jumped from \"somewhat helpful\" to \"wait, is this a real person?\"\nBut here's what nobody tells you - setting up RAG is finicky. The embedding model matters. The chunk size matters. Even the order of your documents can matter. I spent two weeks tweaking these parameters for a legal document system.\nFor a comprehensive guide on building RAG systems with advanced capabilities, see our <a target=\"_blank\" rel=\"noopener noreferrer nofollow\" href=\"/blog/44830763/5-essential-steps-to-building-agentic-rag-systems-with-langchain-and-chromadb\">step-by-step tutorial on agentic RAG systems</a>."
      ]
    },
    {
      "cell_type": "code",
      "execution_count": null,
      "metadata": {},
      "outputs": [],
      "source": [
        "import chromadb\nfrom langchain.vectorstores import Chroma\nfrom langchain.embeddings import HuggingFaceEmbeddings\nfrom langchain.chains import RetrievalQA\nfrom langchain.llms import HuggingFacePipeline\nfrom transformers import pipeline\n\n# Initialize ChromaDB client\nchroma_client = chromadb.Client()\n\n# Create or connect to a collection\ncollection = chroma_client.create_collection(name=\"domain_knowledge\")\n\n# Add domain-specific documents to the collection\ndocuments = [\n    \"Document 1: Domain-specific information about topic A.\",\n    \"Document 2: Domain-specific information about topic B.\",\n    \"Document 3: Domain-specific information about topic C.\"\n]\n\n# Add documents with unique IDs\ncollection.add(\n    documents=documents,\n    ids=[\"doc1\", \"doc2\", \"doc3\"]\n)"
      ]
    },
    {
      "cell_type": "code",
      "execution_count": null,
      "metadata": {},
      "outputs": [],
      "source": [
        "# Initialize embeddings model for vector representation\nembeddings = HuggingFaceEmbeddings(model_name=\"sentence-transformers/all-MiniLM-L6-v2\")\n\n# Create a LangChain vector store using ChromaDB\nvectorstore = Chroma(\n    client=chroma_client,\n    collection_name=\"domain_knowledge\",\n    embedding_function=embeddings\n)\n\n# Load the fine-tuned model as a LangChain-compatible LLM\nllm_pipeline = pipeline(\n    \"text-generation\",\n    model=model,\n    tokenizer=tokenizer,\n    max_length=512,\n    temperature=0.7\n)\nllm = HuggingFacePipeline(pipeline=llm_pipeline)\n\n# Build the RAG chain\nrag_chain = RetrievalQA.from_chain_type(\n    llm=llm,\n    chain_type=\"stuff\",\n    retriever=vectorstore.as_retriever(search_kwargs={\"k\": 2})\n)\n\n# Query the RAG system\nquery = \"What is the latest in domain-specific news?\"\nresponse = rag_chain.run(query)\nprint(f\"RAG Response: {response}\")"
      ]
    },
    {
      "cell_type": "markdown",
      "metadata": {},
      "source": [
        "**Key Considerations:**\n<ul><li>ChromaDB is fast. Like, really fast. Check out <a target=\"_blank\" rel=\"noopener noreferrer nofollow\" href=\"https://docs.trychroma.com/\">ChromaDB documentation</a> if you want to dive deeper\n</li><li>LangChain makes RAG almost too easy. But don't let that fool you - there's a lot happening under the hood. The <a target=\"_blank\" rel=\"noopener noreferrer nofollow\" href=\"https://python.langchain.com/docs/get_started/introduction\">LangChain documentation</a> is your friend here\n</li><li>That `k` parameter? Start with 2 or 3. More isn't always better - sometimes you just confuse the model with too much context\n</li></ul>## Step 4: Design Domain-Specific Prompt TemplatesI used to think prompt engineering was overrated. Just tell the model what you want, right? Wrong. So wrong.\nThe difference between a mediocre prompt and a great one is like the difference between asking a teenager to \"clean their room\" versus giving them a detailed checklist. One gets you a shoved-under-the-bed mess, the other gets you actual results."
      ]
    },
    {
      "cell_type": "code",
      "execution_count": null,
      "metadata": {},
      "outputs": [],
      "source": [
        "# Define a domain-specific prompt template\nprompt_template = \"\"\"\nYou are an expert in the {domain} domain. Given the following context:\n\nContext: {context}\n\nAnswer the following question accurately and concisely:\n\nQuestion: {question}\n\nAnswer:\n\"\"\"\n\n# Example usage\ndomain = \"medical\"\ncontext = \"Patient exhibits symptoms of fever, cough, and fatigue.\"\nquestion = \"What are the possible diagnoses?\"\n\n# Format the prompt\nformatted_prompt = prompt_template.format(domain=domain, context=context, question=question)\n\n# Generate a response using the fine-tuned model\ninputs = tokenizer(formatted_prompt, return_tensors=\"pt\")\noutputs = model.generate(**inputs, max_length=200)\nresponse = tokenizer.decode(outputs[0], skip_special_tokens=True)\n\nprint(f\"Model Response: {response}\")"
      ]
    },
    {
      "cell_type": "markdown",
      "metadata": {},
      "source": [
        "**Key Considerations:**\n<ul><li>Domain-specific terminology in your prompts is crucial. \"Analyze this\" means something different to a lawyer than to a data scientist\n</li><li>Few-shot examples work wonders. Show the model what you want, don't just tell it\n</li><li>Be specific. Painfully specific. \"Concise\" to a model might mean 3 words or 300\n</li></ul>## Step 5: Apply Model Quantization for OptimizationQuantization still blows my mind. You're basically telling the model \"hey, instead of using 32 bits for each number, just use 8\" and somehow it still works. Actually, it works really well.\nI remember deploying my first quantized model. I was sure it would be garbage. The performance drop? Maybe 2%. The memory savings? Over 50%. I actually thought my benchmarks were broken."
      ]
    },
    {
      "cell_type": "code",
      "execution_count": null,
      "metadata": {},
      "outputs": [],
      "source": [
        "from transformers import BitsAndBytesConfig\n\n# Configure 8-bit quantization\nquantization_config = BitsAndBytesConfig(\n    load_in_8bit=True,\n    llm_int8_threshold=6.0\n)\n\n# Load the model with quantization\nquantized_model = AutoModelForCausalLM.from_pretrained(\n    model_name,\n    quantization_config=quantization_config,\n    device_map=\"auto\"\n)\n\n# Verify model size reduction\nprint(f\"Quantized model loaded successfully.\")"
      ]
    },
    {
      "cell_type": "markdown",
      "metadata": {},
      "source": [
        "**Key Considerations:**\n<ul><li>8-bit quantization is usually the sweet spot. 4-bit exists but... let's just say results vary\n</li><li>The `bitsandbytes` library is magic. Seriously, check out <a target=\"_blank\" rel=\"noopener noreferrer nofollow\" href=\"https://github.com/TimDettmers/bitsandbytes\">bitsandbytes documentation</a>\n</li><li>Test everything. Some models quantize better than others. I had one model that completely fell apart with quantization - turned out it was already operating at the edge of its capabilities\n</li></ul>## Step 6: Deploy the Model Using FastAPIFastAPI is my go-to for model deployment. It's fast (duh), it's simple, and it generates documentation automatically. What's not to love?\nActually, wait - there is one thing. The first time I deployed with FastAPI, I forgot to add proper error handling. The model crashed on the first weird input and took down the entire service. Learn from my mistakes."
      ]
    },
    {
      "cell_type": "code",
      "execution_count": null,
      "metadata": {},
      "outputs": [],
      "source": [
        "from fastapi import FastAPI, HTTPException\nfrom pydantic import BaseModel\nimport uvicorn\n\n# Initialize FastAPI app\napp = FastAPI()\n\n# Define request schema\nclass PredictionRequest(BaseModel):\n    input_text: str\n\n# Define prediction endpoint\n@app.post(\"/predict\")\nasync def predict(request: PredictionRequest):\n    try:\n        # Tokenize input\n        inputs = tokenizer(request.input_text, return_tensors=\"pt\")\n        \n        # Generate prediction\n        outputs = model.generate(**inputs, max_length=200)\n        prediction = tokenizer.decode(outputs[0], skip_special_tokens=True)\n        \n        return {\"prediction\": prediction}\n    except Exception as e:\n        raise HTTPException(status_code=500, detail=str(e))\n\n# Run the app (uncomment to run in a non-Colab environment)\n# if __name__ == \"__main__\":\n#     uvicorn.run(app, host=\"0.0.0.0\", port=8000)"
      ]
    },
    {
      "cell_type": "markdown",
      "metadata": {},
      "source": [
        "**Key Considerations:**\n<ul><li>That automatic documentation at `/docs`? It's saved me hours of writing API docs. Check out <a target=\"_blank\" rel=\"noopener noreferrer nofollow\" href=\"https://fastapi.tiangolo.com/\">FastAPI documentation</a> for more tricks\n</li><li>Async endpoints are worth it, even if they seem like overkill at first\n</li><li>Please, please add authentication before going to production. I'm begging you\n</li></ul>## Step 7: Implement Monitoring and LoggingNobody talks about logging until something breaks at 3 AM and you're trying to figure out what went wrong. Then suddenly, everyone's a logging expert.\nI learned this lesson the expensive way. Model was returning garbage for certain inputs, but we had no logs. Took us three days to figure out it was a tokenization issue with emojis. Three. Days."
      ]
    },
    {
      "cell_type": "code",
      "execution_count": null,
      "metadata": {},
      "outputs": [],
      "source": [
        "import logging\n\n# Configure logging\nlogging.basicConfig(\n    level=logging.INFO,\n    format=\"%(asctime)s - %(name)s - %(levelname)s - %(message)s\"\n)\nlogger = logging.getLogger(__name__)\n\n# Log model predictions\ndef log_prediction(input_text, prediction):\n    logger.info(f\"Input: {input_text} | Prediction: {prediction}\")\n\n# Example usage\ninput_text = \"What is the latest in domain-specific news?\"\nprediction = \"The latest news includes...\"\nlog_prediction(input_text, prediction)"
      ]
    },
    {
      "cell_type": "markdown",
      "metadata": {},
      "source": [
        "**Key Considerations:**\n<ul><li>Structured logging will save your sanity. Trust me on this\n</li><li>Prometheus and Grafana aren't just for showing off - they've helped me catch performance degradation before users noticed\n</li><li>Log everything at first. You can always reduce it later. But when something breaks, you'll want those logs\n</li></ul>## Testing & ValidationTesting is where reality hits. Your model might work great on your carefully curated test set, then completely fail on real user input. \"What's the weather?\" somehow becomes a request for financial advice.\nHere's what I do now - I keep a file of actual user inputs that broke previous versions. It's my \"hall of shame\" test suite. If the model passes those, it might actually survive in production."
      ]
    },
    {
      "cell_type": "code",
      "execution_count": null,
      "metadata": {},
      "outputs": [],
      "source": [
        "# Define a test function to validate model accuracy\ndef test_model_accuracy(model, tokenizer, test_cases):\n    correct = 0\n    total = len(test_cases)\n    \n    for input_text, expected_output in test_cases:\n        inputs = tokenizer(input_text, return_tensors=\"pt\")\n        outputs = model.generate(**inputs, max_length=200)\n        prediction = tokenizer.decode(outputs[0], skip_special_tokens=True)\n        \n        if expected_output in prediction:\n            correct += 1\n    \n    accuracy = correct / total\n    return accuracy\n\n# Example test cases\ntest_cases = [\n    (\"What is the capital of France?\", \"Paris\"),\n    (\"Explain the concept of machine learning.\", \"machine learning\")\n]\n\n# Run validation\naccuracy = test_model_accuracy(model, tokenizer, test_cases)\nprint(f\"Model Accuracy: {accuracy * 100:.2f}%\")"
      ]
    },
    {
      "cell_type": "code",
      "execution_count": null,
      "metadata": {},
      "outputs": [],
      "source": [
        "# Benchmark performance: compare base model vs. customized model\ndef evaluate_model(model, tokenizer, dataset):\n    # Placeholder for evaluation logic\n    # In practice, use metrics like BLEU, ROUGE, or domain-specific metrics\n    return 0.85  # Example accuracy\n\nbase_accuracy = 0.75  # Placeholder for base model accuracy\ncustom_accuracy = evaluate_model(model, tokenizer, dataset)\n\nprint(f\"Base Model Accuracy: {base_accuracy * 100:.2f}%\")\nprint(f\"Customized Model Accuracy: {custom_accuracy * 100:.2f}%\")\nprint(f\"Accuracy Improvement: {(custom_accuracy - base_accuracy) * 100:.2f}%\")"
      ]
    },
    {
      "cell_type": "markdown",
      "metadata": {},
      "source": [
        "**Key Considerations:**\n<ul><li>Generic metrics are a starting point, but domain-specific metrics are what matter\n</li><li>A/B testing isn't just for websites. Run both models in parallel and see which one users prefer\n</li><li>Model drift is real. What works today might not work next month. Keep monitoring\n</li></ul>## ConclusionSo we've covered a lot here - parameter-efficient fine-tuning, RAG systems, prompt engineering, quantization, and deployment. Each piece is important, but it's how they work together that makes the magic happen.\nI remember when I first started with LLM customization. It felt overwhelming. Now? It's just another tool in the toolkit. A really powerful tool, but still just a tool.\n**Key Takeaways:**\n<ul><li>LoRA isn't just about saving money (though it does that too). It makes experimentation feasible\n</li><li>RAG systems are like giving your model a research assistant. Use them\n</li><li>Quantization feels like cheating but it's not. It's just smart optimization\n</li><li>FastAPI gets you from model to API in minutes, not days\n</li><li>Logging seems boring until you need it. Then it's the most important thing in the world\n</li></ul>**Next Steps:**\n<ul><li>Get CI/CD working. Manually deploying models gets old fast\n</li><li>Try distillation if you really need speed. It's more work but sometimes worth it\n</li><li>Security isn't optional. Input validation, rate limiting - the works\n</li><li>When you outgrow single-server deployment, Kubernetes is waiting. But don't rush into it\n</li></ul>Look, building production LLM systems is hard. Anyone who tells you otherwise is selling something. But it's also incredibly rewarding when you see your customized model solving real problems that generic models couldn't touch. And honestly? That moment when everything clicks and works - that's what keeps me going."
      ]
    }
  ],
  "metadata": {
    "title": "7 Innovative Techniques for Customizing LLMs [Step-by-Step Guide]",
    "description": "Transform your AI projects by mastering 7 cutting-edge techniques to tailor LLMs for domain-specific tasks, enhancing accuracy and performance.",
    "kernelspec": {
      "display_name": "Python 3",
      "language": "python",
      "name": "python3"
    },
    "language_info": {
      "name": "python",
      "version": "3.8.0"
    }
  },
  "nbformat": 4,
  "nbformat_minor": 4
}