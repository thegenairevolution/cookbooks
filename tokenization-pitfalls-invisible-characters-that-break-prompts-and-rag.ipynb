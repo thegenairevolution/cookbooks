{
  "cells": [
    {
      "cell_type": "markdown",
      "metadata": {},
      "source": [
        "# 📓 The GenAI Revolution Cookbook\n\n**Title:** Tokenization Pitfalls: Invisible Characters That Break Prompts and RAG\n\n**Description:** Prevent hidden Unicode pitfalls from sabotaging prompts and RAG: apply Unicode normalization safely, canonicalize punctuation, audit tokenization, and protect production.\n\n**📖 Read the full article:** [Tokenization Pitfalls: Invisible Characters That Break Prompts and RAG](https://blog.thegenairevolution.com/article/tokenization-pitfalls-invisible-characters-that-break-prompts-and-rag)\n\n---\n\n*This jupyter notebook contains executable code examples. Run the cells below to try out the code yourself!*\n\n"
      ]
    },
    {
      "cell_type": "markdown",
      "metadata": {},
      "source": [
        "Invisible Unicode characters—zero\\-width spaces, soft hyphens, BOMs, and directional marks—silently corrupt tokenization and embeddings, causing RAG systems to miss semantically identical queries and LLMs to produce inconsistent completions. Here's the thing: a single U\\+200B can split a word into rare subword fragments, shifting token IDs and embedding vectors enough to completely break top\\-k retrieval. Let me explain how invisible Unicode disrupts pre\\-tokenization and BPE merges, and show you how to normalize text consistently to stabilize your GenAI pipeline.\n\n## Why This Matters\n\nInvisible Unicode breaks retrieval and generation in three specific ways that I've seen wreck production systems:\n\n**Tokenization divergence**Pre\\-tokenizers treat zero\\-width spaces (U\\+200B), soft hyphens (U\\+00AD), and directional marks as real boundaries—they literally split words into rare fragments. Then BPE merges diverge, producing wildly different token sequences for visually identical strings. Your embeddings drift, and suddenly cosine similarity drops below retrieval thresholds. I've watched this happen with customer queries that looked perfect to the human eye.\n\n**Prompt boundary bias**This one's subtle but nasty. Trailing spaces, BOMs (U\\+FEFF), and leading zero\\-width characters shift the first token in a completion. Models trained on clean text produce different logits when the prompt ends with invisible formatting. You get inconsistent outputs for what should be the same semantic input. Actually, I spent weeks debugging this in a previous role before realizing what was happening.\n\n**Hybrid search misalignment**If your vector pipeline normalizes Unicode but your keyword analyzer doesn't—or the other way around—queries match in one index but miss in the other. Hybrid scores become completely unreliable. You lose the entire benefit of combining lexical and semantic signals, which defeats the whole purpose of hybrid search in the first place.\n\n## How It Works\n\nLet me break down the four mechanisms through which invisible Unicode corrupts tokenization:\n\n**1\\. Pre\\-tokenization treats invisible characters as boundaries**\n\nTokenizers split on whitespace and punctuation before applying BPE—that's just how they work. But zero\\-width spaces, soft hyphens, and directional marks look like separators to the tokenizer. So \"data\\\\u200Bscience\" becomes \\[\"data\", \"\\\\u200B\", \"science\"] instead of \\[\"data\", \"science\"].\n\nEach fragment is rare, which means high token IDs and unstable embeddings. The tokenizer has probably never seen these exact fragments during training.\n\n**2\\. BPE merges diverge when byte sequences differ**\n\nUnicode normalization forms (NFC, NFD, NFKC, NFKD) produce different byte representations for the same visual character. Here's where it gets tricky: if your ingestion pipeline uses NFC but your query uses NFD, the tokenizer sees completely different byte sequences. It applies different merges. Token IDs shift, embeddings no longer align, and your retrieval falls apart.\n\n**3\\. Boundary tokens bias first\\-token distributions**\n\nA trailing space or BOM at the end of a prompt changes the token immediately following it. Models learn different conditional distributions for \"Summarize:\\\\n\" versus \"Summarize: \\\\n\" (note the trailing space). The first generated token shifts, completions diverge, and suddenly you're getting different outputs for what looks like the same prompt.\n\nI actually discovered this while experimenting with a personal project—the model would sometimes start with punctuation, sometimes with a capital letter, all depending on invisible characters at the prompt boundary.\n\n**4\\. Non\\-breaking spaces and collapsed whitespace fragment tokens**\n\nNon\\-breaking spaces (U\\+00A0\\) and sequences of tabs, newlines, and spaces create unexpected token boundaries. \"hello\\\\u00A0world\" tokenizes differently than \"hello world\". And get this—\"hello world\" (two spaces) differs from \"hello world\" (one space).\n\nCollapsing whitespace and converting NBSP to regular spaces stabilizes tokenization, but you have to be consistent about it."
      ]
    },
    {
      "cell_type": "markdown",
      "metadata": {},
      "source": [
        "```mermaid\ngraph TD\n    A[Raw text with U+200B] --> B[Pre-tokenization splits on invisible char]\n    B --> C[BPE merges diverge]\n    C --> D[Token IDs differ]\n    D --> E[Embeddings drift]\n    E --> F[Retrieval mismatch]\n```"
      ]
    },
    {
      "cell_type": "markdown",
      "metadata": {},
      "source": [
        "## What You Should Do\n\nAfter dealing with these issues in multiple systems, I've found these four practices work best, in this specific order:\n\n**1\\. Normalize to NFC and strip invisible characters**\n\nUse Unicode NFC normalization by default. It produces canonical composed forms and works with most tokenizers. Strip zero\\-width spaces (U\\+200B), zero\\-width joiners (U\\+200C, U\\+200D), soft hyphens (U\\+00AD), BOMs (U\\+FEFF), and directional marks (U\\+202A–U\\+202E, U\\+2066–U\\+2069\\).\n\nConvert non\\-breaking spaces (U\\+00A0\\) to regular spaces—this one catches a lot of people.\n\nBut wait, here's an important exception: Don't strip zero\\-width joiners in Indic scripts or Arabic. They control ligature formation there. Route code blocks and multilingual text to domain\\-specific normalizers with proper tests.\n\nThe following utility demonstrates NFC normalization, targeted removal of invisible characters, non\\-breaking space conversion, and whitespace collapsing:"
      ]
    },
    {
      "cell_type": "code",
      "execution_count": null,
      "metadata": {},
      "outputs": [],
      "source": [
        "import re\nimport unicodedata\nimport logging\n\nlogging.basicConfig(level=logging.INFO)\nlogger = logging.getLogger(__name__)\n\nINVISIBLE_CHARS = [\n    '\\u200B',  # Zero-width space\n    '\\u200C',  # Zero-width non-joiner\n    '\\u200D',  # Zero-width joiner\n    '\\uFEFF',  # BOM\n    '\\u00AD',  # Soft hyphen\n    '\\u202A', '\\u202B', '\\u202C', '\\u202D', '\\u202E',\n    '\\u2066', '\\u2067', '\\u2068', '\\u2069'\n]\nINVISIBLE_RE = re.compile('|'.join(map(re.escape, INVISIBLE_CHARS)))\nNBSP_RE = re.compile('\\u00A0')\nWHITESPACE_RE = re.compile(r'\\s+')\n\ndef normalize_text(text: str, normalization: str = \"NFC\") -> str:\n    if not isinstance(text, str):\n        raise ValueError(\"Input text must be a string.\")\n    \n    normalized = unicodedata.normalize(normalization, text)\n    cleaned = INVISIBLE_RE.sub('', normalized)\n    cleaned = NBSP_RE.sub(' ', cleaned)\n    cleaned = WHITESPACE_RE.sub(' ', cleaned)\n    cleaned = cleaned.strip() + '\\n'\n    \n    if INVISIBLE_RE.search(normalized):\n        logger.info(\"Invisible Unicode characters removed from input.\")\n    \n    return cleaned"
      ]
    },
    {
      "cell_type": "markdown",
      "metadata": {},
      "source": [
        "**2\\. Collapse whitespace and trim edges**\n\nReplace all sequences of spaces, tabs, and newlines with a single space. Trim leading and trailing whitespace. Ensure at most one trailing newline. This prevents \"hello world\" and \"hello world\" from tokenizing differently—something I learned the hard way after a particularly frustrating debugging session.\n\n**3\\. Apply symmetric normalization at query time**\n\nThis is crucial: normalize queries with the exact same pipeline you used for ingestion. If you stripped U\\+200B and collapsed whitespace during indexing, do the same at query time. Honestly, asymmetric normalization is the most common cause of retrieval instability I see for near\\-identical queries. People always forget this step.\n\n**4\\. Audit tokenization and set alerts**\n\nCompute the token\\-to\\-character ratio for a sample of documents. For English prose, you want 1\\.1–1\\.6 tokens per character. Flag documents with ratios above 2\\.0—they almost certainly contain invisible Unicode or encoding errors.\n\nRe\\-tokenize a small batch after normalization changes and compare token IDs. If more than 5% of tokens shift, you need to re\\-embed your corpus and validate retrieval metrics before deploying. Trust me on this one.\n\n## Key Takeaways\n\n* Invisible Unicode characters (U\\+200B, U\\+00AD, U\\+FEFF) split words into rare subword fragments, causing tokenization and embedding drift that completely breaks retrieval for semantically identical queries.\n* Pre\\-tokenization treats invisible characters as boundaries, and BPE merges diverge when normalization forms differ. You end up with different token IDs and unstable embeddings.\n* Normalize to NFC, strip invisible characters, convert non\\-breaking spaces, collapse whitespace, and—this is critical—apply the same normalization symmetrically at query time to stabilize tokenization.\n* Monitor token\\-to\\-character ratios (flag anything over 2\\.0 for English) and audit tokenization after normalization changes. Catch regressions before they hit production.\n\n**When to care:**\n\n* Top\\-k retrieval results vary for visually identical queries\n* Completions start with stray punctuation or inconsistent first tokens\n* Token\\-to\\-character ratios spike above expected baselines\n* Hybrid search scores become unreliable after re\\-indexing\n\n## References\n\n* Unicode Standard Annex \\#15: Normalization Forms\n* tiktoken (OpenAI tokenizer)\n* Hugging Face Tokenizers\n* ICU User Guide: Normalization"
      ]
    }
  ],
  "metadata": {
    "title": "Tokenization Pitfalls: Invisible Characters That Break Prompts and RAG",
    "description": "Prevent hidden Unicode pitfalls from sabotaging prompts and RAG: apply Unicode normalization safely, canonicalize punctuation, audit tokenization, and protect production.",
    "kernelspec": {
      "display_name": "Python 3",
      "language": "python",
      "name": "python3"
    },
    "language_info": {
      "name": "python",
      "version": "3.8.0"
    }
  },
  "nbformat": 4,
  "nbformat_minor": 4
}