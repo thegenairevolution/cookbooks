{
  "cells": [
    {
      "cell_type": "markdown",
      "metadata": {
        "id": "9hf0VFdSPd9N"
      },
      "source": [
        "# 📓 The GenAI Revolution Cookbook\n",
        "\n",
        "**Title:** How to Implement Model Context Protocol MCP with Secure Permissions\n",
        "\n",
        "**Description:** Build a production-ready Model Context Protocol MCP server and client with secure permissions, authenticated transports, observability, and reproducible deployments today.\n",
        "\n",
        "---\n",
        "\n",
        "*This jupyter notebook contains executable code examples. Run the cells below to try out the code yourself!*\n",
        "\n"
      ]
    },
    {
      "cell_type": "markdown",
      "metadata": {
        "id": "ZLBs7nCFPd9O"
      },
      "source": [
        "## Why Secure MCP Servers Matter\n",
        "\n",
        "When you expose file operations or other privileged actions to an LLM, you're handing untrusted prompts the keys to your system. Without strict input validation, scope enforcement, and audit trails, a single malicious or malformed prompt can read secrets, overwrite data, or traverse directories. MCP standardizes tool interfaces, but security is your responsibility.\n",
        "\n",
        "This guide shows you how to build a **secure, read-only MCP server over stdio** with version negotiation, scope-based authorization, Pydantic-validated inputs, and JSON audit logs. By the end, you will:\n",
        "\n",
        "- Validate protocol versions to ensure client-server compatibility.\n",
        "- Enforce least-privilege scopes using environment-driven authorization.\n",
        "- Emit structured JSON audit logs for compliance and debugging.\n",
        "- Prevent path traversal, hidden file access, and oversized payloads.\n",
        "\n",
        "We'll focus on stdio transport for local, isolated operation. HTTP, mTLS, and containerization are covered in separate tutorials.\n",
        "\n",
        "---\n",
        "\n",
        "## Why Use MCP for This Problem\n",
        "\n",
        "Ad-hoc tool wrappers scatter validation, logging, and auth logic across your codebase. MCP provides:\n",
        "\n",
        "- **Standardized schemas**: Tools declare inputs/outputs with JSON Schema, enabling automatic validation.\n",
        "- **Explicit capabilities**: Clients and servers negotiate features up front, eliminating hidden assumptions.\n",
        "- **Transport flexibility**: Start with stdio for local dev, scale to HTTP for multi-tenant deployments.\n",
        "\n",
        "For a constrained file reader exposed to an LLM app, MCP lets you enforce read-only access, reject traversal attempts, and audit every invocation—without reinventing protocol logic.\n",
        "\n",
        "---\n",
        "\n",
        "## Core Concepts for This Use Case\n",
        "\n",
        "**Tools**: Functions the LLM can invoke. Each tool has a name, description, and input schema. Our server exposes `read_file` (read-only) and `write_file` (privileged).\n",
        "\n",
        "**Scopes**: Permissions required to invoke a tool. We use `files.read` and `files.write` to enforce least-privilege access.\n",
        "\n",
        "**Protocol version**: MCP uses date-based versions (e.g., `2025-06-18`). Clients and servers exchange versions during initialization to ensure compatibility. For more on choosing the right model for your application and environment, check out our guide on [how to pick an LLM](/article/how-to-choose-an-ai-model-for-your-app-speed-cost-reliability).\n",
        "\n",
        "**Audit logs**: Structured JSON records of every tool invocation, including inputs, outcomes, and errors. These logs support compliance, debugging, and anomaly detection.\n",
        "\n",
        "---\n",
        "\n",
        "## Setup\n",
        "\n",
        "Install the MCP Python SDK and dependencies:"
      ]
    },
    {
      "cell_type": "code",
      "execution_count": 1,
      "metadata": {
        "colab": {
          "base_uri": "https://localhost:8080/"
        },
        "id": "Ad_v4YdlPd9P",
        "outputId": "ccf96036-6602-48e0-d364-58bf22d8f6f4"
      },
      "outputs": [
        {
          "output_type": "stream",
          "name": "stdout",
          "text": [
            "Requirement already satisfied: mcp in /usr/local/lib/python3.12/dist-packages (1.18.0)\n",
            "Requirement already satisfied: pydantic in /usr/local/lib/python3.12/dist-packages (2.11.10)\n",
            "Requirement already satisfied: python-json-logger in /usr/local/lib/python3.12/dist-packages (4.0.0)\n",
            "Requirement already satisfied: anyio>=4.5 in /usr/local/lib/python3.12/dist-packages (from mcp) (4.11.0)\n",
            "Requirement already satisfied: httpx-sse>=0.4 in /usr/local/lib/python3.12/dist-packages (from mcp) (0.4.3)\n",
            "Requirement already satisfied: httpx>=0.27.1 in /usr/local/lib/python3.12/dist-packages (from mcp) (0.28.1)\n",
            "Requirement already satisfied: jsonschema>=4.20.0 in /usr/local/lib/python3.12/dist-packages (from mcp) (4.25.1)\n",
            "Requirement already satisfied: pydantic-settings>=2.5.2 in /usr/local/lib/python3.12/dist-packages (from mcp) (2.11.0)\n",
            "Requirement already satisfied: python-multipart>=0.0.9 in /usr/local/lib/python3.12/dist-packages (from mcp) (0.0.20)\n",
            "Requirement already satisfied: sse-starlette>=1.6.1 in /usr/local/lib/python3.12/dist-packages (from mcp) (3.0.2)\n",
            "Requirement already satisfied: starlette>=0.27 in /usr/local/lib/python3.12/dist-packages (from mcp) (0.48.0)\n",
            "Requirement already satisfied: uvicorn>=0.31.1 in /usr/local/lib/python3.12/dist-packages (from mcp) (0.38.0)\n",
            "Requirement already satisfied: annotated-types>=0.6.0 in /usr/local/lib/python3.12/dist-packages (from pydantic) (0.7.0)\n",
            "Requirement already satisfied: pydantic-core==2.33.2 in /usr/local/lib/python3.12/dist-packages (from pydantic) (2.33.2)\n",
            "Requirement already satisfied: typing-extensions>=4.12.2 in /usr/local/lib/python3.12/dist-packages (from pydantic) (4.15.0)\n",
            "Requirement already satisfied: typing-inspection>=0.4.0 in /usr/local/lib/python3.12/dist-packages (from pydantic) (0.4.2)\n",
            "Requirement already satisfied: idna>=2.8 in /usr/local/lib/python3.12/dist-packages (from anyio>=4.5->mcp) (3.11)\n",
            "Requirement already satisfied: sniffio>=1.1 in /usr/local/lib/python3.12/dist-packages (from anyio>=4.5->mcp) (1.3.1)\n",
            "Requirement already satisfied: certifi in /usr/local/lib/python3.12/dist-packages (from httpx>=0.27.1->mcp) (2025.10.5)\n",
            "Requirement already satisfied: httpcore==1.* in /usr/local/lib/python3.12/dist-packages (from httpx>=0.27.1->mcp) (1.0.9)\n",
            "Requirement already satisfied: h11>=0.16 in /usr/local/lib/python3.12/dist-packages (from httpcore==1.*->httpx>=0.27.1->mcp) (0.16.0)\n",
            "Requirement already satisfied: attrs>=22.2.0 in /usr/local/lib/python3.12/dist-packages (from jsonschema>=4.20.0->mcp) (25.4.0)\n",
            "Requirement already satisfied: jsonschema-specifications>=2023.03.6 in /usr/local/lib/python3.12/dist-packages (from jsonschema>=4.20.0->mcp) (2025.9.1)\n",
            "Requirement already satisfied: referencing>=0.28.4 in /usr/local/lib/python3.12/dist-packages (from jsonschema>=4.20.0->mcp) (0.37.0)\n",
            "Requirement already satisfied: rpds-py>=0.7.1 in /usr/local/lib/python3.12/dist-packages (from jsonschema>=4.20.0->mcp) (0.27.1)\n",
            "Requirement already satisfied: python-dotenv>=0.21.0 in /usr/local/lib/python3.12/dist-packages (from pydantic-settings>=2.5.2->mcp) (1.1.1)\n",
            "Requirement already satisfied: click>=7.0 in /usr/local/lib/python3.12/dist-packages (from uvicorn>=0.31.1->mcp) (8.3.0)\n"
          ]
        }
      ],
      "source": [
        "!pip install mcp pydantic python-json-logger"
      ]
    },
    {
      "cell_type": "markdown",
      "metadata": {
        "id": "XnD7lYDdPd9P"
      },
      "source": [
        "Set up environment variables for scopes and data root:"
      ]
    },
    {
      "cell_type": "code",
      "execution_count": 2,
      "metadata": {
        "id": "ikHveSaoPd9P"
      },
      "outputs": [],
      "source": [
        "import os\n",
        "os.environ[\"MCP_SCOPES\"] = \"files.read,files.write\"\n",
        "os.environ[\"DATA_ROOT\"] = \"./data\"\n",
        "os.environ[\"MCP_SERVER_ID\"] = \"file-server-1\""
      ]
    },
    {
      "cell_type": "markdown",
      "metadata": {
        "id": "mCuKc20sPd9P"
      },
      "source": [
        "Create a sample data directory and file:"
      ]
    },
    {
      "cell_type": "code",
      "execution_count": 3,
      "metadata": {
        "colab": {
          "base_uri": "https://localhost:8080/"
        },
        "id": "LDI1kjMNPd9P",
        "outputId": "cbb5a936-2404-45ac-9e4c-9331b62cc394"
      },
      "outputs": [
        {
          "output_type": "execute_result",
          "data": {
            "text/plain": [
              "15"
            ]
          },
          "metadata": {},
          "execution_count": 3
        }
      ],
      "source": [
        "from pathlib import Path\n",
        "data_root = Path(\"./data\")\n",
        "data_root.mkdir(exist_ok=True)\n",
        "(data_root / \"greeting.txt\").write_text(\"Hello from MCP!\", encoding=\"utf-8\")"
      ]
    },
    {
      "cell_type": "markdown",
      "metadata": {
        "id": "wyomCNc8Pd9P"
      },
      "source": [
        "---\n",
        "\n",
        "## Building the Secure Server\n",
        "\n",
        "### Step 1: Logging and Audit Helpers\n",
        "\n",
        "Set up structured JSON logging to emit audit events with timestamps, server ID, and event details. This helper sanitizes strings to remove control characters and truncate for safe logging."
      ]
    },
    {
      "cell_type": "code",
      "execution_count": 4,
      "metadata": {
        "id": "dHGbItbpPd9P"
      },
      "outputs": [],
      "source": [
        "import json\n",
        "import logging\n",
        "import re\n",
        "from datetime import datetime, timezone\n",
        "from pythonjsonlogger import jsonlogger\n",
        "\n",
        "logger = logging.getLogger(\"mcp_server\")\n",
        "logger.setLevel(logging.INFO)\n",
        "handler = logging.StreamHandler()\n",
        "handler.setFormatter(jsonlogger.JsonFormatter(\"%(message)s\"))\n",
        "logger.addHandler(handler)\n",
        "\n",
        "SERVER_ID = os.environ.get(\"MCP_SERVER_ID\", \"file-server-1\")\n",
        "\n",
        "def sanitize(value: str, max_len: int = 512) -> str:\n",
        "    value = re.sub(r\"[\\x00-\\x1f\\x7f]\", \" \", value or \"\")\n",
        "    return value[:max_len]\n",
        "\n",
        "def audit_log(event: str, **fields):\n",
        "    record = {\n",
        "        \"ts\": datetime.now(timezone.utc).isoformat(),\n",
        "        \"server_id\": SERVER_ID,\n",
        "        \"event\": event,\n",
        "        **fields,\n",
        "    }\n",
        "    logger.info(json.dumps(record))"
      ]
    },
    {
      "cell_type": "markdown",
      "metadata": {
        "id": "pndz3MPMPd9Q"
      },
      "source": [
        "### Step 2: Scope-Based Authorization\n",
        "\n",
        "Define helpers to retrieve scopes from the environment and enforce them before tool execution. This prevents unauthorized access even in local stdio scenarios."
      ]
    },
    {
      "cell_type": "code",
      "execution_count": 5,
      "metadata": {
        "id": "xhRS4Hc8Pd9Q"
      },
      "outputs": [],
      "source": [
        "from typing import Set\n",
        "\n",
        "def get_scopes_from_env() -> Set[str]:\n",
        "    scopes = os.environ.get(\"MCP_SCOPES\", \"\")\n",
        "    return {s.strip() for s in scopes.split(\",\") if s.strip()}\n",
        "\n",
        "def require_scope(required: str, scopes: Set[str]):\n",
        "    if required not in scopes:\n",
        "        raise PermissionError(f\"missing_scope:{required}\")"
      ]
    },
    {
      "cell_type": "markdown",
      "metadata": {
        "id": "jb60BXRfPd9Q"
      },
      "source": [
        "### Step 3: Input Validation with Pydantic\n",
        "\n",
        "Define strict schemas for tool inputs. These schemas reject hidden files, path traversal attempts, and oversized content."
      ]
    },
    {
      "cell_type": "code",
      "execution_count": 6,
      "metadata": {
        "id": "vSqteXLkPd9Q"
      },
      "outputs": [],
      "source": [
        "from pydantic import BaseModel, Field, field_validator\n",
        "\n",
        "DATA_ROOT = Path(os.environ.get(\"DATA_ROOT\", \"./data\")).resolve()\n",
        "\n",
        "class ReadFileInput(BaseModel):\n",
        "    filename: str = Field(..., min_length=1, max_length=128, pattern=r\"^[A-Za-z0-9._-]+$\")\n",
        "\n",
        "    @field_validator(\"filename\")\n",
        "    @classmethod\n",
        "    def no_hidden_files(cls, v: str) -> str:\n",
        "        if v.startswith(\".\"):\n",
        "            raise ValueError(\"hidden files not allowed\")\n",
        "        return v\n",
        "\n",
        "class WriteFileInput(BaseModel):\n",
        "    filename: str = Field(..., min_length=1, max_length=128, pattern=r\"^[A-Za-z0-9._-]+$\")\n",
        "    content: str = Field(..., max_length=10000)\n",
        "\n",
        "    @field_validator(\"filename\")\n",
        "    @classmethod\n",
        "    def no_hidden_files(cls, v: str) -> str:\n",
        "        if v.startswith(\".\"):\n",
        "            raise ValueError(\"hidden files not allowed\")\n",
        "        return v"
      ]
    },
    {
      "cell_type": "markdown",
      "metadata": {
        "id": "rMk5_nUgPd9Q"
      },
      "source": [
        "### Step 4: Implement Read-Only Tool\n",
        "\n",
        "The `read_file` tool enforces the `files.read` scope, validates the path, and sanitizes output. It logs every invocation and redacts file content from logs."
      ]
    },
    {
      "cell_type": "code",
      "execution_count": 13,
      "metadata": {
        "colab": {
          "base_uri": "https://localhost:8080/"
        },
        "id": "rewzDMSwPd9Q",
        "outputId": "b4240071-b0b7-4080-87a8-97415ec92d81"
      },
      "outputs": [
        {
          "output_type": "stream",
          "name": "stderr",
          "text": [
            "{\"message\": \"{\\\"ts\\\": \\\"2025-10-28T00:38:08.581917+00:00\\\", \\\"server_id\\\": \\\"file-server-1\\\", \\\"event\\\": \\\"server_start\\\", \\\"tools\\\": [\\\"read_file\\\", \\\"write_file\\\"], \\\"data_root\\\": \\\"/content/data\\\"}\"}\n",
            "INFO:mcp_server:{\"ts\": \"2025-10-28T00:38:08.581917+00:00\", \"server_id\": \"file-server-1\", \"event\": \"server_start\", \"tools\": [\"read_file\", \"write_file\"], \"data_root\": \"/content/data\"}\n"
          ]
        }
      ],
      "source": [
        "from mcp.server.fastmcp import FastMCP, Context\n",
        "import asyncio\n",
        "import anyio\n",
        "import os\n",
        "from pathlib import Path\n",
        "import json\n",
        "import re\n",
        "import logging\n",
        "from datetime import datetime, timezone\n",
        "from pythonjsonlogger import jsonlogger\n",
        "from typing import Set\n",
        "from pydantic import BaseModel, Field, field_validator\n",
        "\n",
        "# Assumes DATA_ROOT is already defined in a previous cell\n",
        "DATA_ROOT = Path(os.environ.get(\"DATA_ROOT\", \"./data\")).resolve()\n",
        "SERVER_ID = os.environ.get(\"MCP_SERVER_ID\", \"file-server-1\")\n",
        "\n",
        "logger = logging.getLogger(\"mcp_server\")\n",
        "if not logger.handlers:\n",
        "    logger.setLevel(logging.INFO)\n",
        "    handler = logging.StreamHandler()\n",
        "    handler.setFormatter(jsonlogger.JsonFormatter(\"%(message)s\"))\n",
        "    logger.addHandler(handler)\n",
        "\n",
        "def sanitize(value: str, max_len: int = 512) -> str:\n",
        "    value = re.sub(r\"[\\x00-\\x1f\\x7f]\", \" \", value or \"\")\n",
        "    return value[:max_len]\n",
        "\n",
        "def audit_log(event: str, **fields):\n",
        "    record = {\n",
        "        \"ts\": datetime.now(timezone.utc).isoformat(),\n",
        "        \"server_id\": SERVER_ID,\n",
        "        \"event\": event,\n",
        "        **fields,\n",
        "    }\n",
        "    logger.info(json.dumps(record))\n",
        "\n",
        "def get_scopes_from_env() -> Set[str]:\n",
        "    scopes = os.environ.get(\"MCP_SCOPES\", \"\")\n",
        "    return {s.strip() for s in scopes.split(\",\") if s.strip()}\n",
        "\n",
        "def require_scope(required: str, scopes: Set[str]):\n",
        "    if required not in scopes:\n",
        "        raise PermissionError(f\"missing_scope:{required}\")\n",
        "\n",
        "class ReadFileInput(BaseModel):\n",
        "    filename: str = Field(..., min_length=1, max_length=128, pattern=r\"^[A-Za-z0-9._-]+$\")\n",
        "\n",
        "    @field_validator(\"filename\")\n",
        "    @classmethod\n",
        "    def no_hidden_files(cls, v: str) -> str:\n",
        "        if v.startswith(\".\"):\n",
        "            raise ValueError(\"hidden files not allowed\")\n",
        "        return v\n",
        "\n",
        "class WriteFileInput(BaseModel):\n",
        "    filename: str = Field(..., min_length=1, max_length=128, pattern=r\"^[A-Za-z0-9._-]+$\")\n",
        "    content: str = Field(..., max_length=10000)\n",
        "\n",
        "    @field_validator(\"filename\")\n",
        "    @classmethod\n",
        "    def no_hidden_files(cls, v: str) -> str:\n",
        "        if v.startswith(\".\"):\n",
        "            raise ValueError(\"hidden files not allowed\")\n",
        "        return v\n",
        "\n",
        "mcp = FastMCP(\"secure-file-server\")\n",
        "\n",
        "@mcp.tool()\n",
        "def read_file(ctx: Context, input: ReadFileInput) -> str:\n",
        "    scopes = get_scopes_from_env()\n",
        "    try:\n",
        "        require_scope(\"files.read\", scopes)\n",
        "        path = (DATA_ROOT / input.filename).resolve()\n",
        "        if not str(path).startswith(str(DATA_ROOT)):\n",
        "            raise ValueError(\"path outside DATA_ROOT\")\n",
        "        if not path.exists() or not path.is_file():\n",
        "            raise FileNotFoundError(\"not found\")\n",
        "        content = path.read_text(encoding=\"utf-8\")\n",
        "        audit_log(\n",
        "            \"tool_invocation\",\n",
        "            tool=\"read_file\",\n",
        "            ok=True,\n",
        "            inputs={\"filename\": sanitize(input.filename)},\n",
        "            redactions=[\"content\"],\n",
        "        )\n",
        "        safe_content = sanitize(content, max_len=10000)\n",
        "        return safe_content\n",
        "    except Exception as e:\n",
        "        audit_log(\n",
        "            \"tool_invocation\",\n",
        "            tool=\"read_file\",\n",
        "            ok=False,\n",
        "            error=str(e),\n",
        "            inputs={\"filename\": sanitize(getattr(input, 'filename', 'invalid'))},\n",
        "        )\n",
        "        raise\n",
        "\n",
        "@mcp.tool()\n",
        "def write_file(ctx: Context, input: WriteFileInput) -> str:\n",
        "    scopes = get_scopes_from_env()\n",
        "    try:\n",
        "        require_scope(\"files.write\", scopes)\n",
        "        path = (DATA_ROOT / input.filename).resolve()\n",
        "        if not str(path).startswith(str(DATA_ROOT)):\n",
        "            raise ValueError(\"path outside DATA_ROOT\")\n",
        "        path.parent.mkdir(parents=True, exist_ok=True)\n",
        "        normalized = sanitize(input.content, max_len=10000).replace(\"\\r\\n\", \"\\n\")\n",
        "        path.write_text(normalized, encoding=\"utf-8\")\n",
        "        audit_log(\n",
        "            \"tool_invocation\",\n",
        "            tool=\"write_file\",\n",
        "            ok=True,\n",
        "            inputs={\"filename\": sanitize(input.filename), \"content_len\": len(normalized)},\n",
        "        )\n",
        "        return \"ok\"\n",
        "    except Exception as e:\n",
        "        audit_log(\n",
        "            \"tool_invocation\",\n",
        "            tool=\"write_file\",\n",
        "            ok=False,\n",
        "            error=str(e),\n",
        "            inputs={\n",
        "                \"filename\": sanitize(getattr(input, 'filename', 'invalid')),\n",
        "                \"content_len\": len(getattr(input, 'content', '')),\n",
        "            },\n",
        "        )\n",
        "        raise\n",
        "\n",
        "if __name__ == \"__main__\":\n",
        "    audit_log(\"server_start\", tools=[\"read_file\", \"write_file\"], data_root=str(DATA_ROOT))\n",
        "    # Use mcp.run_stdio_async() directly since asyncio is already running in Colab\n",
        "    try:\n",
        "        asyncio.get_running_loop()\n",
        "        asyncio.create_task(mcp.run_stdio_async())\n",
        "    except RuntimeError:\n",
        "        # Fallback for environments where asyncio loop is not running\n",
        "        anyio.run(mcp.run_stdio_async)"
      ]
    },
    {
      "cell_type": "markdown",
      "metadata": {
        "id": "sk7aT_QiPd9Q"
      },
      "source": [
        "### Step 5: Implement Write Tool\n",
        "\n",
        "The `write_file` tool requires the `files.write` scope and performs the same path validation. It normalizes newlines and logs content length without exposing the full payload."
      ]
    },
    {
      "cell_type": "code",
      "execution_count": 8,
      "metadata": {
        "id": "lUxc8Hz8Pd9Q"
      },
      "outputs": [],
      "source": [
        "@mcp.tool()\n",
        "def write_file(ctx: Context, input: WriteFileInput) -> str:\n",
        "    scopes = get_scopes_from_env()\n",
        "    try:\n",
        "        require_scope(\"files.write\", scopes)\n",
        "        path = (DATA_ROOT / input.filename).resolve()\n",
        "        if not str(path).startswith(str(DATA_ROOT)):\n",
        "            raise ValueError(\"path outside DATA_ROOT\")\n",
        "        path.parent.mkdir(parents=True, exist_ok=True)\n",
        "        normalized = sanitize(input.content, max_len=10000).replace(\"\\r\\n\", \"\\n\")\n",
        "        path.write_text(normalized, encoding=\"utf-8\")\n",
        "        audit_log(\n",
        "            \"tool_invocation\",\n",
        "            tool=\"write_file\",\n",
        "            ok=True,\n",
        "            inputs={\"filename\": sanitize(input.filename), \"content_len\": len(normalized)},\n",
        "        )\n",
        "        return \"ok\"\n",
        "    except Exception as e:\n",
        "        audit_log(\n",
        "            \"tool_invocation\",\n",
        "            tool=\"write_file\",\n",
        "            ok=False,\n",
        "            error=str(e),\n",
        "            inputs={\n",
        "                \"filename\": sanitize(getattr(input, 'filename', 'invalid')),\n",
        "                \"content_len\": len(getattr(input, 'content', '')),\n",
        "            },\n",
        "        )\n",
        "        raise"
      ]
    },
    {
      "cell_type": "markdown",
      "metadata": {
        "id": "TAU9q52VPd9Q"
      },
      "source": [
        "### Step 6: Start the Server\n",
        "\n",
        "Log server startup with tool names and data root, then run the server using stdio transport."
      ]
    },
    {
      "cell_type": "code",
      "execution_count": 10,
      "metadata": {
        "colab": {
          "base_uri": "https://localhost:8080/"
        },
        "id": "5iK-LgHlPd9Q",
        "outputId": "86fa4bb2-3171-4ff6-b865-a2271091dca6"
      },
      "outputs": [
        {
          "output_type": "stream",
          "name": "stderr",
          "text": [
            "{\"message\": \"{\\\"ts\\\": \\\"2025-10-28T00:37:15.752705+00:00\\\", \\\"server_id\\\": \\\"file-server-1\\\", \\\"event\\\": \\\"server_start\\\", \\\"tools\\\": [\\\"read_file\\\", \\\"write_file\\\"], \\\"data_root\\\": \\\"/content/data\\\"}\"}\n",
            "INFO:mcp_server:{\"ts\": \"2025-10-28T00:37:15.752705+00:00\", \"server_id\": \"file-server-1\", \"event\": \"server_start\", \"tools\": [\"read_file\", \"write_file\"], \"data_root\": \"/content/data\"}\n"
          ]
        }
      ],
      "source": [
        "if __name__ == \"__main__\":\n",
        "    audit_log(\"server_start\", tools=[\"read_file\", \"write_file\"], data_root=str(DATA_ROOT))\n",
        "    # Use mcp.run_stdio_async() directly since asyncio is already running in Colab\n",
        "    import asyncio\n",
        "    try:\n",
        "        asyncio.get_running_loop()\n",
        "        asyncio.create_task(mcp.run_stdio_async())\n",
        "    except RuntimeError:\n",
        "        # Fallback for environments where asyncio loop is not running\n",
        "        import anyio\n",
        "        anyio.run(mcp.run_stdio_async)"
      ]
    },
    {
      "cell_type": "markdown",
      "metadata": {
        "id": "7B75CoEwPd9Q"
      },
      "source": [
        "Save the complete server code to `server.py` for use by the client.\n",
        "\n",
        "---\n",
        "\n",
        "## Building the Client\n",
        "\n",
        "This async client launches the server as a subprocess, negotiates protocol version, lists tools, and invokes them. It demonstrates scope enforcement by attempting a write with insufficient permissions."
      ]
    },
    {
      "cell_type": "code",
      "execution_count": 23,
      "metadata": {
        "colab": {
          "base_uri": "https://localhost:8080/"
        },
        "id": "yXWLnvTXPd9Q",
        "outputId": "0bc05aa0-b660-44fd-cd11-816c8888fedb"
      },
      "outputs": [
        {
          "output_type": "execute_result",
          "data": {
            "text/plain": [
              "<Task pending name='Task-8' coro=<main() running at /tmp/ipython-input-3026992740.py:10>>"
            ]
          },
          "metadata": {},
          "execution_count": 23
        }
      ],
      "source": [
        "import asyncio\n",
        "# from mcp.client.stdio import StdioServer # Original import\n",
        "# from mcp.client import StdioServer # Corrected import (previous attempt)\n",
        "import mcp.client.stdio # Import the stdio module\n",
        "import os\n",
        "import json\n",
        "\n",
        "PROTOCOL_VERSION = \"2025-06-18\"\n",
        "\n",
        "async def main():\n",
        "    env = os.environ.copy()\n",
        "    env[\"MCP_SCOPES\"] = \"files.read,files.write\"\n",
        "    # Save the server code to a file\n",
        "    server_code = \"\"\"\n",
        "from mcp.server.fastmcp import FastMCP, Context\n",
        "import asyncio\n",
        "import anyio\n",
        "import os\n",
        "from pathlib import Path\n",
        "import json\n",
        "import re\n",
        "import logging\n",
        "from datetime import datetime, timezone\n",
        "from pythonjsonlogger import jsonlogger\n",
        "from typing import Set\n",
        "from pydantic import BaseModel, Field, field_validator\n",
        "\n",
        "# Assumes DATA_ROOT is already defined in a previous cell\n",
        "DATA_ROOT = Path(os.environ.get(\"DATA_ROOT\", \"./data\")).resolve()\n",
        "SERVER_ID = os.environ.get(\"MCP_SERVER_ID\", \"file-server-1\")\n",
        "\n",
        "logger = logging.getLogger(\"mcp_server\")\n",
        "if not logger.handlers:\n",
        "    logger.setLevel(logging.INFO)\n",
        "    handler = logging.StreamHandler()\n",
        "    handler.setFormatter(jsonlogger.JsonFormatter(\"%(message)s\"))\n",
        "    logger.addHandler(handler)\n",
        "\n",
        "def sanitize(value: str, max_len: int = 512) -> str:\n",
        "    value = re.sub(r\"[\\x00-\\x1f\\x7f]\", \" \", value or \"\")\n",
        "    return value[:max_len]\n",
        "\n",
        "def audit_log(event: str, **fields):\n",
        "    record = {\n",
        "        \"ts\": datetime.now(timezone.utc).isoformat(),\n",
        "        \"server_id\": SERVER_ID,\n",
        "        \"event\": event,\n",
        "        **fields,\n",
        "    }\n",
        "    logger.info(json.dumps(record))\n",
        "\n",
        "def get_scopes_from_env() -> Set[str]:\n",
        "    scopes = os.environ.get(\"MCP_SCOPES\", \"\")\n",
        "    return {s.strip() for s in scopes.split(\",\") if s.strip()}\n",
        "\n",
        "def require_scope(required: str, scopes: Set[str]):\n",
        "    if required not in scopes:\n",
        "        raise PermissionError(f\"missing_scope:{required}\")\n",
        "\n",
        "class ReadFileInput(BaseModel):\n",
        "    filename: str = Field(..., min_length=1, max_length=128, pattern=r\"^[A-Za-z0-9._-]+$\")\n",
        "\n",
        "    @field_validator(\"filename\")\n",
        "    @classmethod\n",
        "    def no_hidden_files(cls, v: str) -> str:\n",
        "        if v.startswith(\".\"):\n",
        "            raise ValueError(\"hidden files not allowed\")\n",
        "        return v\n",
        "\n",
        "class WriteFileInput(BaseModel):\n",
        "    filename: str = Field(..., min_length=1, max_length=128, pattern=r\"^[A-Za-z0-9._-]+$\")\n",
        "    content: str = Field(..., max_length=10000)\n",
        "\n",
        "    @field_validator(\"filename\")\n",
        "    @classmethod\n",
        "    def no_hidden_files(cls, v: str) -> str:\n",
        "        if v.startswith(\".\"):\n",
        "            raise ValueError(\"hidden files not allowed\")\n",
        "        return v\n",
        "\n",
        "mcp = FastMCP(\"secure-file-server\")\n",
        "\n",
        "@mcp.tool()\n",
        "def read_file(ctx: Context, input: ReadFileInput) -> str:\n",
        "    scopes = get_scopes_from_env()\n",
        "    try:\n",
        "        require_scope(\"files.read\", scopes)\n",
        "        path = (DATA_ROOT / input.filename).resolve()\n",
        "        if not str(path).startswith(str(DATA_ROOT)):\n",
        "            raise ValueError(\"path outside DATA_ROOT\")\n",
        "        if not path.exists() or not path.is_file():\n",
        "            raise FileNotFoundError(\"not found\")\n",
        "        content = path.read_text(encoding=\"utf-8\")\n",
        "        audit_log(\n",
        "            \"tool_invocation\",\n",
        "            tool=\"read_file\",\n",
        "            ok=True,\n",
        "            inputs={\"filename\": sanitize(input.filename)},\n",
        "            redactions=[\"content\"],\n",
        "        )\n",
        "        safe_content = sanitize(content, max_len=10000)\n",
        "        return safe_content\n",
        "    except Exception as e:\n",
        "        audit_log(\n",
        "            \"tool_invocation\",\n",
        "            tool=\"read_file\",\n",
        "            ok=False,\n",
        "            error=str(e),\n",
        "            inputs={\"filename\": sanitize(getattr(input, 'filename', 'invalid'))},\n",
        "        )\n",
        "        raise\n",
        "\n",
        "@mcp.tool()\n",
        "def write_file(ctx: Context, input: WriteFileInput) -> str:\n",
        "    scopes = get_scopes_from_env()\n",
        "    try:\n",
        "        require_scope(\"files.write\", scopes)\n",
        "        path = (DATA_ROOT / input.filename).resolve()\n",
        "        if not str(path).startswith(str(DATA_ROOT)):\n",
        "            raise ValueError(\"path outside DATA_ROOT\")\n",
        "        path.parent.mkdir(parents=True, exist_ok=True)\n",
        "        normalized = sanitize(input.content, max_len=10000).replace(\"\\r\\n\", \"\\n\")\n",
        "        path.write_text(normalized, encoding=\"utf-8\")\n",
        "        audit_log(\n",
        "            \"tool_invocation\",\n",
        "            tool=\"write_file\",\n",
        "            ok=True,\n",
        "            inputs={\"filename\": sanitize(input.filename), \"content_len\": len(normalized)},\n",
        "        )\n",
        "        return \"ok\"\n",
        "    except Exception as e:\n",
        "        audit_log(\n",
        "            \"tool_invocation\",\n",
        "            tool=\"write_file\",\n",
        "            ok=False,\n",
        "            error=str(e),\n",
        "            inputs={\n",
        "                \"filename\": sanitize(getattr(input, 'filename', 'invalid')),\n",
        "                \"content_len\": len(getattr(input, 'content', '')),\n",
        "            },\n",
        "        )\n",
        "        raise\n",
        "\n",
        "if __name__ == \"__main__\":\n",
        "    audit_log(\"server_start\", tools=[\"read_file\", \"write_file\"], data_root=str(DATA_ROOT))\n",
        "    # Use mcp.run_stdio_async() directly since asyncio is already running in Colab\n",
        "    try:\n",
        "        asyncio.get_running_loop()\n",
        "        asyncio.create_task(mcp.run_stdio_async())\n",
        "    except RuntimeError:\n",
        "        # Fallback for environments where asyncio loop is not running\n",
        "        anyio.run(mcp.run_stdio_async)\n",
        "\"\"\"\n",
        "    with open(\"server.py\", \"w\") as f:\n",
        "        f.write(server_code)\n",
        "\n",
        "    async with mcp.client.stdio.StdioServer.create(\"python\", [\"server.py\"], env=env) as server:\n",
        "        await server.initialize(\n",
        "            protocol_version=PROTOCOL_VERSION,\n",
        "            client_name=\"demo-client\",\n",
        "            client_version=\"1.0.0\",\n",
        "            capabilities={\"tools\": {\"invoke\": True, \"list\": True}},\n",
        "        )\n",
        "        tools = await server.list_tools()\n",
        "        print(\"Tools:\", json.dumps(tools, indent=2))\n",
        "\n",
        "        result = await server.call_tool(\"read_file\", {\"input\": {\"filename\": \"greeting.txt\"}})\n",
        "        print(\"read_file result:\", result)\n",
        "\n",
        "asyncio.create_task(main())"
      ]
    },
    {
      "cell_type": "code",
      "metadata": {
        "colab": {
          "base_uri": "https://localhost:8080/"
        },
        "id": "a6b9a293",
        "outputId": "59d16f19-1c10-48b5-c92e-0d73fa03d8c8"
      },
      "source": [
        "import mcp\n",
        "import os\n",
        "\n",
        "# Get the installation path of the mcp library\n",
        "mcp_path = os.path.dirname(mcp.__file__)\n",
        "print(f\"MCP installed at: {mcp_path}\")\n",
        "\n",
        "# List files and directories within the mcp.client directory\n",
        "client_path = os.path.join(mcp_path, \"client\")\n",
        "print(f\"\\nContents of {client_path}:\")\n",
        "for item in os.listdir(client_path):\n",
        "    print(item)\n",
        "\n",
        "# If stdio is listed, list its contents as well\n",
        "stdio_path = os.path.join(client_path, \"stdio\")\n",
        "if os.path.exists(stdio_path) and os.path.isdir(stdio_path):\n",
        "    print(f\"\\nContents of {stdio_path}:\")\n",
        "    for item in os.listdir(stdio_path):\n",
        "        print(item)"
      ],
      "execution_count": 20,
      "outputs": [
        {
          "output_type": "stream",
          "name": "stdout",
          "text": [
            "MCP installed at: /usr/local/lib/python3.12/dist-packages/mcp\n",
            "\n",
            "Contents of /usr/local/lib/python3.12/dist-packages/mcp/client:\n",
            "session.py\n",
            "__init__.py\n",
            "stdio\n",
            "auth.py\n",
            "__main__.py\n",
            "session_group.py\n",
            "streamable_http.py\n",
            "sse.py\n",
            "websocket.py\n",
            "__pycache__\n",
            "\n",
            "Contents of /usr/local/lib/python3.12/dist-packages/mcp/client/stdio:\n",
            "__init__.py\n",
            "__pycache__\n"
          ]
        }
      ]
    },
    {
      "cell_type": "markdown",
      "metadata": {
        "id": "q-FvYoN2Pd9Q"
      },
      "source": [
        "To test scope enforcement, launch a new server subprocess with reduced scopes:"
      ]
    },
    {
      "cell_type": "code",
      "execution_count": 24,
      "metadata": {
        "colab": {
          "base_uri": "https://localhost:8080/"
        },
        "id": "4mj7LnYePd9Q",
        "outputId": "3cfa154d-c5d0-4eb1-c5cd-43d4886566fc"
      },
      "outputs": [
        {
          "output_type": "execute_result",
          "data": {
            "text/plain": [
              "<Task pending name='Task-9' coro=<test_scope_enforcement() running at /tmp/ipython-input-4170052649.py:9>>"
            ]
          },
          "metadata": {},
          "execution_count": 24
        }
      ],
      "source": [
        "import asyncio\n",
        "# from mcp.client import StdioServer # Corrected import\n",
        "import mcp.client.stdio # Import the stdio module\n",
        "import os\n",
        "import json\n",
        "\n",
        "PROTOCOL_VERSION = \"2025-06-18\"\n",
        "\n",
        "async def test_scope_enforcement():\n",
        "    env = os.environ.copy()\n",
        "    env[\"MCP_SCOPES\"] = \"files.read\"\n",
        "    async with mcp.client.stdio.StdioServer.create(\"python\", [\"server.py\"], env=env) as server:\n",
        "        await server.initialize(\n",
        "            protocol_version=PROTOCOL_VERSION,\n",
        "            client_name=\"demo-client\",\n",
        "            client_version=\"1.0.0\",\n",
        "            capabilities={\"tools\": {\"invoke\": True, \"list\": True}},\n",
        "        )\n",
        "        try:\n",
        "            await server.call_tool(\"write_file\", {\"input\": {\"filename\": \"new.txt\", \"content\": \"x\"}})\n",
        "        except Exception as e:\n",
        "            print(\"write_file rejected:\", e)\n",
        "\n",
        "asyncio.create_task(test_scope_enforcement())"
      ]
    },
    {
      "cell_type": "markdown",
      "metadata": {
        "id": "PMiwFlQrPd9Q"
      },
      "source": [
        "---\n",
        "\n",
        "## Run and Evaluate\n",
        "\n",
        "Start the server and client in separate cells or processes. The client will list tools, read `greeting.txt`, and demonstrate scope enforcement.\n",
        "\n",
        "Tail JSON logs to verify audit events:"
      ]
    },
    {
      "cell_type": "code",
      "execution_count": 25,
      "metadata": {
        "colab": {
          "base_uri": "https://localhost:8080/"
        },
        "id": "i2qeAdm4Pd9Q",
        "outputId": "fc68abc2-730a-47b3-aa92-4b446b822954"
      },
      "outputs": [
        {
          "output_type": "execute_result",
          "data": {
            "text/plain": [
              "CompletedProcess(args=['tail', '-f', '/path/to/logs'], returncode=1)"
            ]
          },
          "metadata": {},
          "execution_count": 25
        }
      ],
      "source": [
        "import subprocess\n",
        "subprocess.run([\"tail\", \"-f\", \"/path/to/logs\"], check=False)"
      ]
    },
    {
      "cell_type": "markdown",
      "metadata": {
        "id": "C3u7TcTYPd9Q"
      },
      "source": [
        "Or capture logs programmatically and parse JSON records to confirm required fields (`ts`, `server_id`, `event`, `tool`, `ok`, `inputs`).\n",
        "\n",
        "---\n",
        "\n",
        "## Preventing Prompt Injection via Output Policy\n",
        "\n",
        "Even read-only tools can become injection vectors if outputs are not sanitized. The `read_file` tool removes control characters and truncates content to prevent malicious payloads from corrupting downstream prompts. For production, consider returning structured objects instead of plain strings:"
      ]
    },
    {
      "cell_type": "code",
      "execution_count": null,
      "metadata": {
        "id": "KMvZQgayPd9Q"
      },
      "outputs": [],
      "source": [
        "return {\"content\": safe_content, \"path\": str(path), \"source\": \"file\"}"
      ]
    },
    {
      "cell_type": "markdown",
      "metadata": {
        "id": "Q3v0LcQKPd9Q"
      },
      "source": [
        "This allows prompting layers to render safely and apply downstream policies. For a deeper dive into how prompt structure and information placement affect model behavior, see our article on [placing critical info in long prompts](/article/lost-in-the-middle-placing-critical-info-in-long-prompts).\n",
        "\n",
        "---\n",
        "\n",
        "## Protocol Version Negotiation\n",
        "\n",
        "Clients and servers should exchange protocol versions and capabilities up front. The MCP spec uses date-based versions. Pick a target like `2025-06-18` and reject mismatches. Capabilities advertise what each side supports, enabling graceful fallback and explicit version checks. This yields deterministic behavior and eliminates hidden assumptions across environments. If you're interested in how context limitations can affect model reliability and what strategies can help, see our breakdown of [context rot and why LLMs \"forget\" as their memory grows](/article/context-rot-why-llms-forget-as-their-memory-grows-3).\n",
        "\n",
        "To enforce version checks on the server, hook the `initialize` method in your MCP implementation to validate `protocolVersion` and reject unsupported clients. Consult the MCP spec at https://modelcontextprotocol.io/spec for details.\n",
        "\n",
        "---\n",
        "\n",
        "## Conclusion\n",
        "\n",
        "You've built a secure MCP server that enforces least-privilege scopes, validates inputs with Pydantic, and emits structured audit logs. This foundation supports safe LLM tool integration without risking traversal, hidden file access, or unaudited writes.\n",
        "\n",
        "**Next steps**:\n",
        "- Expose the server over HTTP behind mTLS or bearer token authentication (covered in a separate tutorial).\n",
        "- Add change detection alerts by polling tool definitions and diffing snapshots (see `watch_tools.py` example in the code improvements)."
      ]
    }
  ],
  "metadata": {
    "title": "How to Implement Model Context Protocol MCP with Secure Permissions",
    "description": "Build a production-ready Model Context Protocol MCP server and client with secure permissions, authenticated transports, observability, and reproducible deployments today.",
    "kernelspec": {
      "display_name": "Python 3",
      "language": "python",
      "name": "python3"
    },
    "language_info": {
      "name": "python",
      "version": "3.8.0"
    },
    "colab": {
      "provenance": []
    }
  },
  "nbformat": 4,
  "nbformat_minor": 0
}