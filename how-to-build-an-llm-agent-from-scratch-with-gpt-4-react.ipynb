{
  "cells": [
    {
      "cell_type": "markdown",
      "metadata": {},
      "source": [
        "# 📓 The GenAI Revolution Cookbook\n\n**Title:** How to Build an LLM Agent from Scratch with GPT-4 ReAct\n\n**Description:** Build a fully functional LLM agent in Python using ReAct, tool actions, regex parsing, and GPT-4, automated control loop included.\n\n**📖 Read the full article:** [How to Build an LLM Agent from Scratch with GPT-4 ReAct](https://blog.thegenairevolution.com/article/how-to-build-an-llm-agent-from-scratch-with-gpt-4-react)\n\n---\n\n*This jupyter notebook contains executable code examples. Run the cells below to try out the code yourself!*\n\n"
      ]
    },
    {
      "cell_type": "markdown",
      "metadata": {},
      "source": [
        "You probably use agent frameworks like LangChain or BabyAGI without really seeing how they work under the hood. This tutorial is your chance to peel back the layers. You're going to build a ReAct\\-style agent from scratch. This will help you understand what AI agents fundamentally are, how they reason, act, and loop with tools—all without any third\\-party framework. When you see how each part works, you'll understand more clearly what those frameworks are doing for you.\n\nThe core idea comes from the paper \"ReAct: Synergizing Reasoning and Acting in Language Models\" (arXiv:2210\\.03629\\) by Yao et al. ReAct shows that you can get better performance and interpretability when a model both reasons (writes thoughts) and acts (calls tools), weaving those steps together with observations.\n\n## Introduction\n\nBuilding an agent that can reason, call tools, and iterate without supervision is now straightforward—if you control the format, validate the inputs, and guard against runaway loops. This tutorial shows you how to build a ReAct agent from scratch using the OpenAI Python SDK, three simple tools (distance lookup, travel time calculation, sum), a regex\\-based action parser, and a single\\-action\\-per\\-turn control loop with a max\\-turn guard. You'll end with a runnable, testable agent that can answer multi\\-step questions like \"How long to drive from Montreal to Boston at 60 mph?\"\n\n**Prerequisites:** Python 3\\.10\\+, an OpenAI API key, and basic familiarity with LLMs. Token usage is minimal. Using gpt\\-4o\\-mini for tool lookups keeps costs low. This tutorial is Colab\\-ready and starts with a `!pip install` cell.\n\n## Why This Approach Works\n\nFrameworks add convenience—but they hide behavior. If you build things from scratch, you gain complete control. You can debug faster. You'll know exactly when and why the model does something.\n\n**Why GPT\\-4o and GPT\\-4o\\-mini?**GPT\\-4o provides strong reasoning for the main agent loop. GPT\\-4o\\-mini handles simple tool lookups cheaply and quickly. The combination keeps cost and latency balanced without losing reliability.\n\n**Why ReAct?**The ReAct pattern (Reason \\+ Act) forces the model to articulate its reasoning before taking action. That makes behavior interpretable and easier to debug. A strict format—Thought → Action → PAUSE → Observation—lets you parse and validate every step programmatically.\n\n**Why regex parsing?**Regex is deterministic, fast, and transparent. You know exactly what matches and what doesn't. For production, you could swap in JSON\\-based arguments or the OpenAI function\\-call API. Regex is a simple way to start.\n\n## How It Works (High\\-Level Overview)\n\n1. **Agent receives a question**, then generates a Thought and an Action. Example: `lookup_distance[Montreal, Boston]`.\n2. **Control loop parses the Action** using regex, validates it, and calls its Python function.\n3. **Tool returns a result** (e.g., \"308 miles\"), which becomes the Observation.\n4. **Agent updates reasoning** with the new info. It either calls another tool or gives a final Answer.\n5. **Loop stops** once the agent outputs `Answer:` or hits the max turn limit.\n\n## Setup \\& Installation\n\nRun this cell in Colab or your local environment to install dependencies:"
      ]
    },
    {
      "cell_type": "code",
      "execution_count": null,
      "metadata": {},
      "outputs": [],
      "source": [
        "!pip install --upgrade openai python-dotenv"
      ]
    },
    {
      "cell_type": "markdown",
      "metadata": {},
      "source": [
        "Set your OpenAI API key. In Colab:"
      ]
    },
    {
      "cell_type": "code",
      "execution_count": null,
      "metadata": {},
      "outputs": [],
      "source": [
        "import os\nos.environ[\"OPENAI_API_KEY\"] = \"sk-...\"  # Replace with your key"
      ]
    },
    {
      "cell_type": "markdown",
      "metadata": {},
      "source": [
        "Or create a `.env` file locally:"
      ]
    },
    {
      "cell_type": "code",
      "execution_count": null,
      "metadata": {},
      "outputs": [],
      "source": [
        "OPENAI_API_KEY=sk-..."
      ]
    },
    {
      "cell_type": "markdown",
      "metadata": {},
      "source": [
        "Verify the key is set before proceeding:"
      ]
    },
    {
      "cell_type": "code",
      "execution_count": null,
      "metadata": {},
      "outputs": [],
      "source": [
        "OPENAI_API_KEY=sk-..."
      ]
    },
    {
      "cell_type": "markdown",
      "metadata": {},
      "source": [
        "## Step\\-by\\-Step Implementation\n\n### Define the System Prompt\n\nThis is the contract between you and the model. It enforces the ReAct format and lists available actions with exact signatures."
      ]
    },
    {
      "cell_type": "code",
      "execution_count": null,
      "metadata": {},
      "outputs": [],
      "source": [
        "import os\nif not os.getenv(\"OPENAI_API_KEY\"):\n    raise EnvironmentError(\"OPENAI_API_KEY not set. Please set it before running.\")"
      ]
    },
    {
      "cell_type": "markdown",
      "metadata": {},
      "source": [
        "### Build the Agent Class\n\nThe Agent class manages conversation history. It makes calls to the OpenAI API. It keeps track of messages so the model has full context each turn."
      ]
    },
    {
      "cell_type": "code",
      "execution_count": null,
      "metadata": {},
      "outputs": [],
      "source": [
        "SYSTEM_PROMPT = \"\"\"\nYou operate in a structured loop consisting of Thought, Action, PAUSE, and Observation.\nAt the end of the loop, you output an Answer. Follow this process to reason through questions and perform actions to provide accurate results.\n\nProcess Breakdown:\n1. Thought: Think through the question and explain your reasoning about the next action to take.\n2. Action: Use one of the available actions to gather information or perform calculations. Follow the correct syntax for the action. End with PAUSE after specifying the action.\n3. Observation: Review the result of the action and decide the next step. Continue the loop as needed until the question is fully resolved.\n4. Answer: Once all steps are complete, provide a clear and concise response.\n\nAvailable Actions:\n- lookup_distance:\n  e.g., lookup_distance: Toronto to Montreal\n  Finds the driving distance between two locations in kilometers.\n\n- calculate_travel_time:\n  e.g., calculate_travel_time: 540 km at 100 km/h\n  Calculates the travel time for a given distance at the specified average speed.\n\n- calculate_sum:\n  e.g., calculate_sum: 3.88 hours + 5.54 hours\n  Sums two values with units (e.g., hours or kilometers) and returns the total.\n\nExample Session:\nQuestion: How long will it take to drive from Toronto to Montreal if I travel at an average speed of 110 km/h?\n\nThought: I first need to find the driving distance between Toronto and Montreal using the lookup_distance action.\nAction: lookup_distance: Toronto to Montreal\nPAUSE\n\nObservation: The driving distance between Toronto and Montreal is 541 kilometers.\n\nThought: Now, I need to calculate the travel time for 541 kilometers at an average speed of 110 km/h using the calculate_travel_time action.\nAction: calculate_travel_time: 541 km at 110 km/h\nPAUSE\n\nObservation: The travel time is approximately 4.92 hours.\n\nAnswer: The drive from Toronto to Montreal will take approximately 4.92 hours if you travel at an average speed of 110 km/h.\n\"\"\""
      ]
    },
    {
      "cell_type": "markdown",
      "metadata": {},
      "source": [
        "### Implement the Tools\n\nEach tool is a simple Python function. Distance lookup uses an LLM call for realism. You can swap in deterministic maps or APIs later."
      ]
    },
    {
      "cell_type": "code",
      "execution_count": null,
      "metadata": {},
      "outputs": [],
      "source": [
        "import os\nimport logging\nfrom dataclasses import dataclass, field\nfrom typing import List, Dict\nfrom openai import OpenAI\n\nlogging.basicConfig(level=logging.INFO)\nlogger = logging.getLogger(__name__)\n\nclient = OpenAI(api_key=os.getenv(\"OPENAI_API_KEY\"))\n\n@dataclass\nclass Agent:\n    system_prompt: str\n    model: str = \"gpt-4o\"\n    temperature: float = 0.0\n    messages: List[Dict[str, str]] = field(default_factory=list)\n\n    def __post_init__(self):\n        self.messages = [{\"role\": \"system\", \"content\": self.system_prompt}]\n\n    def __call__(self, user_content: str) -> str:\n        self.messages.append({\"role\": \"user\", \"content\": user_content})\n        return self.execute()\n\n    def execute(self) -> str:\n        resp = client.chat.completions.create(\n            model=self.model,\n            temperature=self.temperature,\n            messages=self.messages,\n        )\n        content = resp.choices[0].message.content\n        self.messages.append({\"role\": \"assistant\", \"content\": content})\n        logger.debug(f\"Assistant: {content}\")\n        return content"
      ]
    },
    {
      "cell_type": "markdown",
      "metadata": {},
      "source": [
        "### Register Tools and Define Parsers\n\nSet up a registry for dispatch. Use regex patterns to parse the agent's output into actions or answers."
      ]
    },
    {
      "cell_type": "code",
      "execution_count": null,
      "metadata": {},
      "outputs": [],
      "source": [
        "import re\n\ndef generate_response(prompt: str, model: str = \"gpt-4o-mini\") -> str:\n    # Helper function to generate a simple response from a smaller model\n    resp = client.chat.completions.create(\n        model=model,\n        temperature=0,\n        messages=[\n            {\"role\": \"system\", \"content\": \"Reply with the answer only.\"},\n            {\"role\": \"user\", \"content\": prompt},\n        ],\n    )\n    return resp.choices[0].message.content.strip()\n\ndef lookup_distance(prompt: str) -> str:\n    # Tool to find the driving distance between two locations using an LLM call\n    gpt_prompt = f\"Find the driving distance in kilometers between {prompt}. Return the result as a single sentence.\"\n    return generate_response(gpt_prompt)\n\ndef _extract_number(s: str) -> float:\n    # Helper to extract a number from a string\n    m = re.search(r\"(-?[0-9]+(?:\\.[0-9]+)?)\", s)\n    if not m:\n        raise ValueError(f\"Cannot parse number from: {s}\")\n    return float(m.group(1))\n\ndef calculate_travel_time(distance: str, speed: str) -> str:\n    # Tool to calculate travel time given distance and speed\n    d = _extract_number(distance)\n    v = _extract_number(speed)\n    if v == 0:\n        return \"infinite hours\"\n    hours = d / v\n    return f\"{round(hours, 2)} hours\"\n\ndef _extract_number_and_unit(s: str) -> (float, str):\n    # Helper to extract number and unit from a string\n    m = re.search(r\"(-?[0-9]+(?:\\.[0-9]+)?)\\\\s*([a-zA-Z/%]+)?\", s.strip())\n    if not m:\n        raise ValueError(f\"Cannot parse: {s}\")\n    value = float(m.group(1))\n    unit = m.group(2) or \"\"\n    return value, unit\n\ndef calculate_sum(value1: str, value2: str) -> str:\n    # Tool to sum two values with units\n    v1, u1 = _extract_number_and_unit(value1)\n    v2, u2 = _extract_number_and_unit(value2)\n    # Use the unit if both values have the same unit\n    unit = u1 if u1 == u2 else \"\"\n    total = v1 + v2\n    return f\"{round(total, 2)}{(' ' + unit) if unit else ''}\""
      ]
    },
    {
      "cell_type": "markdown",
      "metadata": {},
      "source": [
        "### Build the Control Loop\n\nThis loops through thinking, acting, and observing until you get a final answer or hit a turn limit. This prevents runaway agents."
      ]
    },
    {
      "cell_type": "code",
      "execution_count": null,
      "metadata": {},
      "outputs": [],
      "source": [
        "from typing import Optional, List, Tuple\nimport re\n\n# Register available actions with their corresponding functions\nKNOWN_ACTIONS = {\n    \"lookup_distance\": lookup_distance,\n    \"calculate_travel_time\": calculate_travel_time,\n    \"calculate_sum\": calculate_sum,\n}\n\ndef parse_action(text: str) -> Optional[Tuple[str, List[str]]]:\n    # Parse the agent's output to find an action line\n    action_line = None\n    for line in text.splitlines():\n        if line.strip().lower().startswith(\"action:\"):\n            action_line = line.strip()\n            break\n\n    if not action_line:\n        return None\n\n    # Extract action name and parameters\n    action_text = action_line[len(\"action:\"):].strip()\n    action_parts = action_text.split(\":\", 1)\n\n    if len(action_parts) < 2:\n         return None\n\n    name = action_parts[0].strip()\n    raw_params = action_parts[1].strip()\n\n    # Custom parsing for calculate_travel_time due to its parameter format\n    if name == \"calculate_travel_time\":\n        parts = raw_params.split(\" at \")\n        if len(parts) == 2:\n            params = [parts[0].strip(), parts[1].strip()]\n        else:\n            # Handle cases where calculate_travel_time parameters are not as expected\n            return None\n    else:\n        # Default comma splitting for other action parameters\n        params = [p.strip().strip('\"').strip(\"'\") for p in raw_params.split(\",\")] if raw_params else []\n\n    return name, params\n\ndef parse_answer(text: str) -> Optional[str]:\n    # Parse the agent's output to find the final answer line\n    answer_line = None\n    for line in text.splitlines():\n        if line.strip().lower().startswith(\"answer:\"):\n            answer_line = line.strip()\n            break\n\n    if not answer_line:\n        return None\n\n    # Extract the answer text\n    answer_text = answer_line[len(\"answer:\"):].strip()\n    return answer_text\n\n\ndef validate_action(name: str, params: List[str]) -> bool:\n    # Validate if the parsed action is a known action\n    if name not in KNOWN_ACTIONS:\n        raise ValueError(f\"Unknown action: {name}\")\n    # Optional: Add more specific parameter validation here if needed\n    return True"
      ]
    },
    {
      "cell_type": "markdown",
      "metadata": {},
      "source": [
        "### Run and Validate\n\nTest the agent with a multi\\-step question that requires two tool calls: distance lookup, then travel time calculation."
      ]
    },
    {
      "cell_type": "code",
      "execution_count": null,
      "metadata": {},
      "outputs": [],
      "source": [
        "def run_agent_loop(question: str, max_turns: int = 10, verbose: bool = True) -> str:\n    # Initialize the agent with the system prompt\n    agent = Agent(system_prompt=SYSTEM_PROMPT, model=\"gpt-4o\", temperature=0)\n    # Send the initial question to the agent\n    last = agent(question)\n\n    if verbose:\n        print(\"TURN 1 - ASSISTANT\\n\", last, \"\\n\")\n\n    turn = 1\n    # Start the agent loop\n    while turn < max_turns:\n        # Attempt to parse the final answer\n        answer = parse_answer(last)\n        if answer:\n            # If an answer is found, print and return it\n            if verbose:\n                print(\"FINAL ANSWER\\n\", answer)\n            return answer\n\n        # If no answer, attempt to parse an action\n        parsed = parse_action(last)\n        if not parsed:\n            # If no action or answer is found, stop the loop\n            if verbose:\n                print(\"No action or answer detected. Stopping.\")\n            return \"Unable to complete: no action or answer detected.\"\n\n        # Extract action name and parameters\n        name, params = parsed\n        try:\n            # Validate the action and execute the corresponding tool\n            validate_action(name, params)\n            tool = KNOWN_ACTIONS[name]\n            result = tool(*params)\n        except Exception as e:\n            # Handle any errors during tool execution\n            result = f\"ERROR: {str(e)}\"\n\n        # Format the tool result as an observation\n        obs_msg = f\"Observation: {result}\"\n        turn += 1\n        # Send the observation back to the agent for the next turn\n        last = agent(obs_msg)\n\n        if verbose:\n            print(f\"TURN {turn} - OBSERVATION\\n\", obs_msg)\n            print(f\"TURN {turn} - ASSISTANT\\n\", last, \"\\n\")\n\n    # If the maximum number of turns is reached without finding an answer\n    if verbose:\n        print(\"Max turns reached without final answer.\")\n    return \"Unable to complete within turn limit.\""
      ]
    },
    {
      "cell_type": "markdown",
      "metadata": {},
      "source": [
        "Expected output:"
      ]
    },
    {
      "cell_type": "code",
      "execution_count": null,
      "metadata": {},
      "outputs": [],
      "source": [
        "TURN 1 - ASSISTANT\nThought: I need to find the distance from Montreal to Boston first.\nAction: lookup_distance[Montreal, Boston]\nPAUSE\n\nTURN 2 - OBSERVATION\n..."
      ]
    },
    {
      "cell_type": "markdown",
      "metadata": {},
      "source": [
        "## Connecting Back to ReAct (the Paper)\n\nHere's what \"ReAct: Synergizing Reasoning and Acting in Language Models\" teaches you, and how it shaped this tutorial:\n\n* The paper shows that when you interleave reasoning and action, you get much more robust behavior. Reasoning lets the model plan. Actions let it get grounded information. Observations let it correct and update what it thought.\n* ReAct outperforms reasoning\\-only (Chain\\-of\\-Thought) and acting\\-only approaches on tasks like HotpotQA and FEVER. It reduces hallucinations and error propagation by using external sources.\n* Its format is similar here: Thought → Action → Observation → Thought → … → Answer. That gives you both interpretability and control.\n* You'll see in the frameworks you already use that they adopt very similar contracts: they make you define tool signatures, control loops, stopping criteria, etc. This tutorial reproduces those pieces explicitly so you can see them.\n\nYou're now set up to experiment, tweak formats, add tools, or change the logic. Doing this by hand teaches you what the frameworks automate. That knowledge will make you a better builder, better debugger, and better decision\\-maker about which abstractions to introduce."
      ]
    }
  ],
  "metadata": {
    "title": "How to Build an LLM Agent from Scratch with GPT-4 ReAct",
    "description": "Build a fully functional LLM agent in Python using ReAct, tool actions, regex parsing, and GPT-4, automated control loop included.",
    "kernelspec": {
      "display_name": "Python 3",
      "language": "python",
      "name": "python3"
    },
    "language_info": {
      "name": "python",
      "version": "3.8.0"
    }
  },
  "nbformat": 4,
  "nbformat_minor": 4
}